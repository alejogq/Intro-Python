{
 "cells": [
  {
   "cell_type": "markdown",
   "metadata": {},
   "source": [
    "  ### POLIMORFISMO POR DUCK TYPING"
   ]
  },
  {
   "cell_type": "code",
   "execution_count": 30,
   "metadata": {},
   "outputs": [],
   "source": [
    "class Estrella():\n",
    "    \n",
    "    def __init__(self, color, tamano):\n",
    "        self.color=color\n",
    "        self.tamano=tamano\n",
    "    \n",
    "    def titilar(self):\n",
    "        print(f\"**** Soy una estrella titilando con color {self.color} ****\")      "
   ]
  },
  {
   "cell_type": "code",
   "execution_count": 31,
   "metadata": {},
   "outputs": [],
   "source": [
    "class Bombilla():\n",
    "    \n",
    "    def __init__(self, color, tamano):\n",
    "        self.color=color\n",
    "        self.tamano=tamano\n",
    "    \n",
    "    def titilar(self):\n",
    "        print(f\" ---- BOMBILLO titilando con color {self.color} -----\")"
   ]
  },
  {
   "cell_type": "code",
   "execution_count": 32,
   "metadata": {},
   "outputs": [],
   "source": [
    "mibombilla = Bombilla(\"Amarillo\",10)\n",
    "miestrella = Estrella(\"Azul\", 5)\n",
    "lista = [mibombilla, miestrella]"
   ]
  },
  {
   "cell_type": "code",
   "execution_count": 33,
   "metadata": {},
   "outputs": [
    {
     "name": "stdout",
     "output_type": "stream",
     "text": [
      " ---- BOMBILLO titilando con color Amarillo -----\n",
      "**** Soy una estrella titilando con color Azul ****\n"
     ]
    }
   ],
   "source": [
    "for i in lista:\n",
    "    i.titilar()"
   ]
  },
  {
   "cell_type": "markdown",
   "metadata": {},
   "source": [
    " ### POLIMORFISMO POR HERENCIA"
   ]
  },
  {
   "cell_type": "code",
   "execution_count": 49,
   "metadata": {},
   "outputs": [],
   "source": [
    "class marrones(Estrella):\n",
    "    \n",
    "    def __init__(self):\n",
    "#        super().__init__(\"Marron\",5)\n",
    "        Estrella.__init__(self,\"Marron\",5)\n",
    "        self.edad = 500\n",
    "\n",
    "    def titilar(self):\n",
    "        print(\"//// Las Estrellas Marrones no Titilamos ////\")\n",
    "        \n",
    "        "
   ]
  },
  {
   "cell_type": "code",
   "execution_count": 51,
   "metadata": {},
   "outputs": [],
   "source": [
    "estrellaMarron=marrones()"
   ]
  },
  {
   "cell_type": "code",
   "execution_count": 46,
   "metadata": {},
   "outputs": [
    {
     "name": "stdout",
     "output_type": "stream",
     "text": [
      "//// Las Estrellas Marrones no Titilamos ////\n"
     ]
    }
   ],
   "source": [
    "estrellaMarron.titilar()"
   ]
  },
  {
   "cell_type": "code",
   "execution_count": 10,
   "metadata": {},
   "outputs": [
    {
     "data": {
      "text/plain": [
       "10000"
      ]
     },
     "execution_count": 10,
     "metadata": {},
     "output_type": "execute_result"
    }
   ],
   "source": [
    "estrellaMarron.edad"
   ]
  },
  {
   "cell_type": "code",
   "execution_count": 41,
   "metadata": {},
   "outputs": [],
   "source": [
    "class abuelo():\n",
    "    def __init__(self, nombre):\n",
    "        self.nombre=nombre\n",
    "        print(\"Constructor ejecutado\")\n",
    "        \n",
    "    def trabajo(self):\n",
    "        self.trabajo=\"Obrero\"\n",
    "\n",
    "class padre(abuelo):\n",
    "    pass\n",
    "\n",
    "class hijo(padre):\n",
    "\n",
    "    def oficio(self):\n",
    "        self.trabajo=\"constructor\""
   ]
  },
  {
   "cell_type": "code",
   "execution_count": 42,
   "metadata": {},
   "outputs": [
    {
     "name": "stdout",
     "output_type": "stream",
     "text": [
      "Constructor ejecutado\n"
     ]
    }
   ],
   "source": [
    "a=hijo(\"Pedro\")"
   ]
  },
  {
   "cell_type": "code",
   "execution_count": 36,
   "metadata": {},
   "outputs": [
    {
     "data": {
      "text/plain": [
       "'Pedro'"
      ]
     },
     "execution_count": 36,
     "metadata": {},
     "output_type": "execute_result"
    }
   ],
   "source": [
    "a.nombre"
   ]
  },
  {
   "cell_type": "code",
   "execution_count": 28,
   "metadata": {},
   "outputs": [],
   "source": [
    "a.oficio()"
   ]
  },
  {
   "cell_type": "code",
   "execution_count": 29,
   "metadata": {},
   "outputs": [
    {
     "data": {
      "text/plain": [
       "'constructor'"
      ]
     },
     "execution_count": 29,
     "metadata": {},
     "output_type": "execute_result"
    }
   ],
   "source": [
    "a.trabajo"
   ]
  },
  {
   "cell_type": "code",
   "execution_count": null,
   "metadata": {},
   "outputs": [],
   "source": []
  }
 ],
 "metadata": {
  "kernelspec": {
   "display_name": "Python 3",
   "language": "python",
   "name": "python3"
  },
  "language_info": {
   "codemirror_mode": {
    "name": "ipython",
    "version": 3
   },
   "file_extension": ".py",
   "mimetype": "text/x-python",
   "name": "python",
   "nbconvert_exporter": "python",
   "pygments_lexer": "ipython3",
   "version": "3.7.3"
  }
 },
 "nbformat": 4,
 "nbformat_minor": 4
}
