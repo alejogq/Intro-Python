{
 "cells": [
  {
   "cell_type": "code",
   "execution_count": 97,
   "metadata": {},
   "outputs": [],
   "source": [
    "class cuadrado():\n",
    "    \n",
    "    def __init__(self):\n",
    "        \n",
    "        tamano = int(input(\"Ingrese el tamaño\"))\n",
    "        color_in = input(\"Ingrese el color: \")\n",
    "        \n",
    "        self.ancho = \"* \"*tamano\n",
    "        self.alto = tamano\n",
    "        self.area = tamano**2\n",
    "        self.color = color_in\n",
    "        \n",
    "    def __str__(self):\n",
    "        return f\"\"\"\n",
    "                  Este objeto tiene ancho: {self.alto}\n",
    "                                     alto: {self.alto}\n",
    "                                     area: {self.area}\n",
    "                                     color:{self.color}\n",
    "        \"\"\"\n",
    "        \n",
    "    def mostrar(self):\n",
    "        for i in range(self.alto):\n",
    "            print(self.ancho)\n",
    "        "
   ]
  },
  {
   "cell_type": "code",
   "execution_count": 98,
   "metadata": {},
   "outputs": [
    {
     "name": "stdout",
     "output_type": "stream",
     "text": [
      "Ingrese el tamaño5\n"
     ]
    }
   ],
   "source": [
    "a=cuadrado()"
   ]
  },
  {
   "cell_type": "code",
   "execution_count": 99,
   "metadata": {},
   "outputs": [
    {
     "name": "stdout",
     "output_type": "stream",
     "text": [
      "\n",
      "                  Este objeto tiene ancho: 5\n",
      "                                     alto: 5\n",
      "                                     area: 25\n",
      "        \n"
     ]
    }
   ],
   "source": [
    "print(a)"
   ]
  },
  {
   "cell_type": "code",
   "execution_count": 100,
   "metadata": {},
   "outputs": [
    {
     "name": "stdout",
     "output_type": "stream",
     "text": [
      "* * * * * \n",
      "* * * * * \n",
      "* * * * * \n",
      "* * * * * \n",
      "* * * * * \n"
     ]
    }
   ],
   "source": [
    "a.mostrar()"
   ]
  },
  {
   "cell_type": "code",
   "execution_count": 50,
   "metadata": {},
   "outputs": [
    {
     "name": "stdout",
     "output_type": "stream",
     "text": [
      "Este objeto tiene tamaño 9\n"
     ]
    }
   ],
   "source": [
    "print(a)"
   ]
  },
  {
   "cell_type": "code",
   "execution_count": 51,
   "metadata": {},
   "outputs": [],
   "source": [
    "class biblioteca():\n",
    "    pass\n",
    "\n",
    "micoleccion=biblioteca()"
   ]
  },
  {
   "cell_type": "code",
   "execution_count": 53,
   "metadata": {},
   "outputs": [
    {
     "data": {
      "text/plain": [
       "__main__.biblioteca"
      ]
     },
     "execution_count": 53,
     "metadata": {},
     "output_type": "execute_result"
    }
   ],
   "source": [
    "type(micoleccion)"
   ]
  },
  {
   "cell_type": "code",
   "execution_count": null,
   "metadata": {},
   "outputs": [],
   "source": []
  }
 ],
 "metadata": {
  "kernelspec": {
   "display_name": "Python 3",
   "language": "python",
   "name": "python3"
  },
  "language_info": {
   "codemirror_mode": {
    "name": "ipython",
    "version": 3
   },
   "file_extension": ".py",
   "mimetype": "text/x-python",
   "name": "python",
   "nbconvert_exporter": "python",
   "pygments_lexer": "ipython3",
   "version": "3.7.3"
  }
 },
 "nbformat": 4,
 "nbformat_minor": 4
}
