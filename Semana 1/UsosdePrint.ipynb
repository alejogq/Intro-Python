{
 "cells": [
  {
   "cell_type": "markdown",
   "metadata": {},
   "source": [
    "\n",
    "## Asignación"
   ]
  },
  {
   "cell_type": "code",
   "execution_count": 1,
   "metadata": {},
   "outputs": [],
   "source": [
    "nombre=\"Alejandro\"\n",
    "apellido=\"Giraldo\"\n",
    "edad=34\n",
    "ciudad=\"Marinilla\"\n",
    "programa=\"Mintic\""
   ]
  },
  {
   "cell_type": "markdown",
   "metadata": {},
   "source": [
    "## Imprimir"
   ]
  },
  {
   "cell_type": "code",
   "execution_count": 7,
   "metadata": {},
   "outputs": [
    {
     "name": "stdout",
     "output_type": "stream",
     "text": [
      "Nombre:  Alejandro\n",
      "Apellido:  Giraldo\n",
      "Edad:  34\n",
      "ciudad:  Marinilla\n",
      "Programa:  Mintic\n"
     ]
    }
   ],
   "source": [
    "print(\"Nombre: \",nombre)\n",
    "print(\"Apellido: \",apellido)\n",
    "print(\"Edad: \",edad)\n",
    "print(\"ciudad: \",ciudad)\n",
    "print(\"Programa: \",programa)"
   ]
  },
  {
   "cell_type": "code",
   "execution_count": 16,
   "metadata": {},
   "outputs": [
    {
     "name": "stdout",
     "output_type": "stream",
     "text": [
      "Nombre: Alejandro\n",
      "Apellido: Giraldo\n",
      "Edad: 34\n"
     ]
    }
   ],
   "source": [
    "print(f\"Nombre: {nombre}\")\n",
    "print(f\"Apellido: {apellido}\")\n",
    "print(f\"Edad: {edad}\")"
   ]
  },
  {
   "cell_type": "code",
   "execution_count": 11,
   "metadata": {},
   "outputs": [
    {
     "name": "stdout",
     "output_type": "stream",
     "text": [
      "Nombre: Alejandro\n",
      "Apellido: Giraldo\n",
      "Edad: 34\n"
     ]
    }
   ],
   "source": [
    "print(\"Nombre: {}\".format(nombre))\n",
    "print(\"Apellido: {}\".format(apellido))\n",
    "print(\"Edad: {}\".format(edad))"
   ]
  },
  {
   "cell_type": "code",
   "execution_count": null,
   "metadata": {},
   "outputs": [],
   "source": []
  }
 ],
 "metadata": {
  "kernelspec": {
   "display_name": "Python 3",
   "language": "python",
   "name": "python3"
  },
  "language_info": {
   "codemirror_mode": {
    "name": "ipython",
    "version": 3
   },
   "file_extension": ".py",
   "mimetype": "text/x-python",
   "name": "python",
   "nbconvert_exporter": "python",
   "pygments_lexer": "ipython3",
   "version": "3.7.3"
  }
 },
 "nbformat": 4,
 "nbformat_minor": 4
}
