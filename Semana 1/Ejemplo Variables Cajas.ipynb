{
 "cells": [
  {
   "cell_type": "markdown",
   "metadata": {},
   "source": [
    "Necesitamos empacar 23 peras en cajas de a 5,  \n",
    "cuantas cajas necesito \n",
    "y en la caja incompleta cuantas quedan"
   ]
  },
  {
   "cell_type": "code",
   "execution_count": 1,
   "metadata": {},
   "outputs": [
    {
     "name": "stdout",
     "output_type": "stream",
     "text": [
      "total de cajas=  5\n",
      "numero de peras en la caja incompleta=  3\n"
     ]
    }
   ],
   "source": [
    "numero_de_cajas = 23//5\n",
    "residuo=23%5\n",
    "\n",
    "total=numero_de_cajas+1\n",
    "\n",
    "print(\"total de cajas= \", total)\n",
    "print(\"numero de peras en la caja incompleta= \", residuo)"
   ]
  },
  {
   "cell_type": "code",
   "execution_count": 4,
   "metadata": {},
   "outputs": [
    {
     "name": "stdout",
     "output_type": "stream",
     "text": [
      "1.62\n"
     ]
    }
   ],
   "source": [
    "a=5.2/3.2\n",
    "print(\"%.2f\"%(a))\n"
   ]
  },
  {
   "cell_type": "code",
   "execution_count": null,
   "metadata": {},
   "outputs": [],
   "source": []
  }
 ],
 "metadata": {
  "kernelspec": {
   "display_name": "Python 3",
   "language": "python",
   "name": "python3"
  },
  "language_info": {
   "codemirror_mode": {
    "name": "ipython",
    "version": 3
   },
   "file_extension": ".py",
   "mimetype": "text/x-python",
   "name": "python",
   "nbconvert_exporter": "python",
   "pygments_lexer": "ipython3",
   "version": "3.7.3"
  }
 },
 "nbformat": 4,
 "nbformat_minor": 4
}
