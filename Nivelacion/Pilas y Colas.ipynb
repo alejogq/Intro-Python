{
 "cells": [
  {
   "cell_type": "code",
   "execution_count": 1,
   "metadata": {},
   "outputs": [],
   "source": [
    "class Cola:\n",
    "    \"\"\" Representa a una cola, con operaciones de encolar y desencolar.\n",
    "        El primero en ser encolado es también el primero en ser desencolado.\n",
    "    \"\"\"\n",
    "\n",
    "    def __init__(self):\n",
    "        \"\"\" Crea una cola vacía. \"\"\"\n",
    "        # La cola vacía se representa por una lista vacía\n",
    "        self.items=[]\n",
    "        \n",
    "    def encolar(self, x):\n",
    "        \"\"\" Agrega el elemento x como último de la cola. \"\"\"\n",
    "        self.items.append(x)\n",
    "        \n",
    "    def desencolar(self):\n",
    "        \"\"\" Elimina el primer elemento de la cola y devuelve su\n",
    "            valor. Si la cola está vacía, levanta ValueError. \"\"\"\n",
    "        try:\n",
    "            return self.items.pop(0)\n",
    "        except:\n",
    "            raise ValueError(\"La cola está vacía\")    \n",
    "            \n",
    "    def es_vacia(self):\n",
    "        \"\"\" Devuelve True si la cola esta vacía, False si no.\"\"\"\n",
    "        return self.items == []            "
   ]
  },
  {
   "cell_type": "code",
   "execution_count": 3,
   "metadata": {},
   "outputs": [],
   "source": [
    "a=Cola()"
   ]
  },
  {
   "cell_type": "code",
   "execution_count": 7,
   "metadata": {},
   "outputs": [],
   "source": [
    "a.encolar(1)\n",
    "a.encolar(2)\n",
    "a.encolar(3)\n",
    "a.encolar(4)\n",
    "a.encolar(5)"
   ]
  },
  {
   "cell_type": "code",
   "execution_count": 8,
   "metadata": {},
   "outputs": [
    {
     "data": {
      "text/plain": [
       "1"
      ]
     },
     "execution_count": 8,
     "metadata": {},
     "output_type": "execute_result"
    }
   ],
   "source": [
    "a.desencolar()"
   ]
  },
  {
   "cell_type": "code",
   "execution_count": 10,
   "metadata": {},
   "outputs": [
    {
     "data": {
      "text/plain": [
       "2"
      ]
     },
     "execution_count": 10,
     "metadata": {},
     "output_type": "execute_result"
    }
   ],
   "source": [
    "a.desencolar()"
   ]
  },
  {
   "cell_type": "code",
   "execution_count": 11,
   "metadata": {},
   "outputs": [
    {
     "data": {
      "text/plain": [
       "3"
      ]
     },
     "execution_count": 11,
     "metadata": {},
     "output_type": "execute_result"
    }
   ],
   "source": [
    "a.desencolar()"
   ]
  },
  {
   "cell_type": "code",
   "execution_count": null,
   "metadata": {},
   "outputs": [],
   "source": []
  },
  {
   "cell_type": "markdown",
   "metadata": {},
   "source": []
  },
  {
   "cell_type": "code",
   "execution_count": null,
   "metadata": {},
   "outputs": [],
   "source": []
  },
  {
   "cell_type": "code",
   "execution_count": null,
   "metadata": {},
   "outputs": [],
   "source": []
  },
  {
   "cell_type": "code",
   "execution_count": null,
   "metadata": {},
   "outputs": [],
   "source": []
  },
  {
   "cell_type": "code",
   "execution_count": null,
   "metadata": {},
   "outputs": [],
   "source": []
  }
 ],
 "metadata": {
  "kernelspec": {
   "display_name": "Python 3",
   "language": "python",
   "name": "python3"
  },
  "language_info": {
   "codemirror_mode": {
    "name": "ipython",
    "version": 3
   },
   "file_extension": ".py",
   "mimetype": "text/x-python",
   "name": "python",
   "nbconvert_exporter": "python",
   "pygments_lexer": "ipython3",
   "version": "3.7.3"
  }
 },
 "nbformat": 4,
 "nbformat_minor": 4
}
