{
 "cells": [
  {
   "cell_type": "markdown",
   "metadata": {},
   "source": [
    "<!-- ![imagen_1](listas.png) -->"
   ]
  },
  {
   "cell_type": "markdown",
   "metadata": {},
   "source": [
    "<p align=\"center\">\n",
    " \n",
    "<img src=\"resumen_estrcuturas.png\" title=\"listas\" width=\"500\" height=\"280\">\n",
    "<div align=\"center\">LISTAS</div>\n",
    " \n",
    "</p>"
   ]
  },
  {
   "cell_type": "markdown",
   "metadata": {},
   "source": [
    "<p align=\"center\">\n",
    " \n",
    "<img src=\"listas.png\" title=\"listas\" width=\"500\" height=\"280\">\n",
    "<div align=\"center\">LISTAS</div>\n",
    " \n",
    "</p>"
   ]
  },
  {
   "cell_type": "code",
   "execution_count": 9,
   "metadata": {
    "scrolled": true
   },
   "outputs": [
    {
     "data": {
      "text/plain": [
       "[1, 2, 9, 9, 9, 9, 3, 4, 5, 6, 7, 8, 9, 10, 11, 12]"
      ]
     },
     "execution_count": 9,
     "metadata": {},
     "output_type": "execute_result"
    }
   ],
   "source": [
    "lista=[1,2,3,4,5,6,7,8,9,10,11,12]\n",
    "lista[2:2]=[9,9,9,9]\n",
    "lista"
   ]
  },
  {
   "cell_type": "code",
   "execution_count": 17,
   "metadata": {},
   "outputs": [],
   "source": [
    "lista=[]\n",
    "elemento=1\n",
    "lista.insert(0,elemento)"
   ]
  },
  {
   "cell_type": "code",
   "execution_count": 19,
   "metadata": {},
   "outputs": [],
   "source": [
    "lista.insert(0,2)"
   ]
  },
  {
   "cell_type": "code",
   "execution_count": 20,
   "metadata": {},
   "outputs": [
    {
     "data": {
      "text/plain": [
       "[2, 1]"
      ]
     },
     "execution_count": 20,
     "metadata": {},
     "output_type": "execute_result"
    }
   ],
   "source": [
    "lista"
   ]
  },
  {
   "cell_type": "code",
   "execution_count": 21,
   "metadata": {},
   "outputs": [
    {
     "data": {
      "text/plain": [
       "[2]"
      ]
     },
     "execution_count": 21,
     "metadata": {},
     "output_type": "execute_result"
    }
   ],
   "source": [
    "lista.pop()\n",
    "lista"
   ]
  },
  {
   "cell_type": "code",
   "execution_count": 22,
   "metadata": {},
   "outputs": [],
   "source": [
    "pila=[]"
   ]
  },
  {
   "cell_type": "code",
   "execution_count": 23,
   "metadata": {},
   "outputs": [],
   "source": [
    "pila.append(1)"
   ]
  },
  {
   "cell_type": "code",
   "execution_count": 24,
   "metadata": {},
   "outputs": [
    {
     "data": {
      "text/plain": [
       "[1]"
      ]
     },
     "execution_count": 24,
     "metadata": {},
     "output_type": "execute_result"
    }
   ],
   "source": [
    "pila"
   ]
  },
  {
   "cell_type": "code",
   "execution_count": 25,
   "metadata": {},
   "outputs": [],
   "source": [
    "pila.append(2)"
   ]
  },
  {
   "cell_type": "code",
   "execution_count": 26,
   "metadata": {},
   "outputs": [
    {
     "data": {
      "text/plain": [
       "[1, 2]"
      ]
     },
     "execution_count": 26,
     "metadata": {},
     "output_type": "execute_result"
    }
   ],
   "source": [
    "pila"
   ]
  },
  {
   "cell_type": "code",
   "execution_count": 27,
   "metadata": {},
   "outputs": [
    {
     "data": {
      "text/plain": [
       "2"
      ]
     },
     "execution_count": 27,
     "metadata": {},
     "output_type": "execute_result"
    }
   ],
   "source": [
    "pila.pop()"
   ]
  },
  {
   "cell_type": "code",
   "execution_count": 14,
   "metadata": {},
   "outputs": [
    {
     "data": {
      "text/plain": [
       "12"
      ]
     },
     "execution_count": 14,
     "metadata": {},
     "output_type": "execute_result"
    }
   ],
   "source": [
    "lista.pop()"
   ]
  },
  {
   "cell_type": "code",
   "execution_count": null,
   "metadata": {},
   "outputs": [],
   "source": []
  },
  {
   "cell_type": "code",
   "execution_count": null,
   "metadata": {},
   "outputs": [],
   "source": []
  },
  {
   "cell_type": "code",
   "execution_count": 15,
   "metadata": {},
   "outputs": [],
   "source": [
    "lista.remove(2)"
   ]
  },
  {
   "cell_type": "code",
   "execution_count": 16,
   "metadata": {},
   "outputs": [
    {
     "data": {
      "text/plain": [
       "[1, 9, 10, 10, 10, 9, 9, 9, 3, 4, 5, 6, 7, 8, 9, 10, 11]"
      ]
     },
     "execution_count": 16,
     "metadata": {},
     "output_type": "execute_result"
    }
   ],
   "source": [
    "lista"
   ]
  },
  {
   "cell_type": "code",
   "execution_count": 6,
   "metadata": {},
   "outputs": [
    {
     "name": "stdout",
     "output_type": "stream",
     "text": [
      "['a', 'c', 'Hello', 18, True]\n"
     ]
    }
   ],
   "source": [
    "lista_1 = ['a', 'c', 'Hello', 18, True]\n",
    "print(lista_1)"
   ]
  },
  {
   "cell_type": "code",
   "execution_count": 62,
   "metadata": {},
   "outputs": [
    {
     "data": {
      "text/plain": [
       "True"
      ]
     },
     "execution_count": 62,
     "metadata": {},
     "output_type": "execute_result"
    }
   ],
   "source": [
    "lista_1[4]"
   ]
  },
  {
   "cell_type": "code",
   "execution_count": 78,
   "metadata": {},
   "outputs": [
    {
     "name": "stdout",
     "output_type": "stream",
     "text": [
      "Longitud de la lista: 8\n"
     ]
    }
   ],
   "source": [
    "lista=['C','o','l','o','m','b','i','a']\n",
    "\n",
    "longitud=len(lista)\n",
    "print(f\"Longitud de la lista: {longitud}\")"
   ]
  },
  {
   "cell_type": "code",
   "execution_count": 79,
   "metadata": {},
   "outputs": [
    {
     "data": {
      "text/plain": [
       "['C', 'o', 'l', 'o', 'm', 'b', 'i', 'a']"
      ]
     },
     "execution_count": 79,
     "metadata": {},
     "output_type": "execute_result"
    }
   ],
   "source": [
    "lista"
   ]
  },
  {
   "cell_type": "markdown",
   "metadata": {},
   "source": [
    "### Se ordenan comenzando desde el 0"
   ]
  },
  {
   "cell_type": "code",
   "execution_count": 65,
   "metadata": {},
   "outputs": [
    {
     "name": "stdout",
     "output_type": "stream",
     "text": [
      "C\n",
      "a\n"
     ]
    }
   ],
   "source": [
    "print(lista[0])\n",
    "print(lista[len(lista)-1])"
   ]
  },
  {
   "cell_type": "code",
   "execution_count": 67,
   "metadata": {},
   "outputs": [
    {
     "name": "stdout",
     "output_type": "stream",
     "text": [
      "['C', 'o', 'l', 'o']\n"
     ]
    }
   ],
   "source": [
    "print(lista[0:4])"
   ]
  },
  {
   "cell_type": "markdown",
   "metadata": {},
   "source": [
    "### Se puede acceder al revés usando índices negativos"
   ]
  },
  {
   "cell_type": "code",
   "execution_count": 70,
   "metadata": {},
   "outputs": [
    {
     "name": "stdout",
     "output_type": "stream",
     "text": [
      "a\n"
     ]
    }
   ],
   "source": [
    "print(lista[-1])"
   ]
  },
  {
   "cell_type": "code",
   "execution_count": 71,
   "metadata": {},
   "outputs": [
    {
     "name": "stdout",
     "output_type": "stream",
     "text": [
      "['o', 'm', 'b', 'i']\n"
     ]
    }
   ],
   "source": [
    "print(lista[-5:-1])"
   ]
  },
  {
   "cell_type": "code",
   "execution_count": 7,
   "metadata": {},
   "outputs": [
    {
     "name": "stdout",
     "output_type": "stream",
     "text": [
      "['C', 'o', 'l', 'o', 'm']\n"
     ]
    }
   ],
   "source": [
    "print(lista[:-3])"
   ]
  },
  {
   "cell_type": "code",
   "execution_count": 72,
   "metadata": {},
   "outputs": [
    {
     "name": "stdout",
     "output_type": "stream",
     "text": [
      "['C', 'o', 'l', 'o', 'm', 'b', 'i', 'a']\n"
     ]
    }
   ],
   "source": [
    "print(lista[:])"
   ]
  },
  {
   "cell_type": "code",
   "execution_count": 9,
   "metadata": {},
   "outputs": [
    {
     "name": "stdout",
     "output_type": "stream",
     "text": [
      "['m', 'b', 'i', 'a']\n"
     ]
    }
   ],
   "source": [
    "print(lista[4:])"
   ]
  },
  {
   "cell_type": "markdown",
   "metadata": {},
   "source": [
    "### Cambiar datos de una lista"
   ]
  },
  {
   "cell_type": "code",
   "execution_count": 73,
   "metadata": {},
   "outputs": [
    {
     "name": "stdout",
     "output_type": "stream",
     "text": [
      "['H', 'o', 254, 'o', 'm', 'b', 'i', 'a']\n"
     ]
    }
   ],
   "source": [
    "lista[0]='H'\n",
    "lista[2]=254\n",
    "print(lista)"
   ]
  },
  {
   "cell_type": "code",
   "execution_count": 83,
   "metadata": {},
   "outputs": [],
   "source": [
    "lista[5]=1"
   ]
  },
  {
   "cell_type": "markdown",
   "metadata": {},
   "source": [
    "### Agregar datos a una lista"
   ]
  },
  {
   "cell_type": "code",
   "execution_count": 11,
   "metadata": {},
   "outputs": [
    {
     "name": "stdout",
     "output_type": "stream",
     "text": [
      "['H', 'o', 254, 'o', 'm', 'b', 'i', 'a', 254, 'hola', True]\n"
     ]
    }
   ],
   "source": [
    "lista.append(254)\n",
    "lista.append(\"hola\")\n",
    "lista.append(True)\n",
    "print(lista)"
   ]
  },
  {
   "cell_type": "markdown",
   "metadata": {},
   "source": [
    "### Eliminar un elemento"
   ]
  },
  {
   "cell_type": "code",
   "execution_count": 12,
   "metadata": {},
   "outputs": [
    {
     "name": "stdout",
     "output_type": "stream",
     "text": [
      "['H', 'o', 254, 'm', 'b', 'i', 'a', 254, 'hola', True]\n"
     ]
    }
   ],
   "source": [
    "lista.pop(3)\n",
    "print(lista)"
   ]
  },
  {
   "cell_type": "markdown",
   "metadata": {},
   "source": [
    "### Limpiar la lista"
   ]
  },
  {
   "cell_type": "code",
   "execution_count": 13,
   "metadata": {},
   "outputs": [
    {
     "name": "stdout",
     "output_type": "stream",
     "text": [
      "[]\n"
     ]
    }
   ],
   "source": [
    "lista.clear()\n",
    "print(lista)"
   ]
  },
  {
   "cell_type": "code",
   "execution_count": 90,
   "metadata": {},
   "outputs": [],
   "source": [
    "numeros=[1,2,3,56]"
   ]
  },
  {
   "cell_type": "code",
   "execution_count": 89,
   "metadata": {},
   "outputs": [
    {
     "name": "stdout",
     "output_type": "stream",
     "text": [
      "5656\n"
     ]
    }
   ],
   "source": [
    "total=numeros[1]*numeros[3]\n",
    "print(total)"
   ]
  },
  {
   "cell_type": "code",
   "execution_count": 91,
   "metadata": {},
   "outputs": [
    {
     "name": "stdout",
     "output_type": "stream",
     "text": [
      "4\n"
     ]
    }
   ],
   "source": [
    "print(len(numeros))"
   ]
  },
  {
   "cell_type": "code",
   "execution_count": 30,
   "metadata": {},
   "outputs": [
    {
     "data": {
      "text/plain": [
       "set"
      ]
     },
     "execution_count": 30,
     "metadata": {},
     "output_type": "execute_result"
    }
   ],
   "source": [
    "a={1,2}\n",
    "type(a)"
   ]
  },
  {
   "cell_type": "markdown",
   "metadata": {},
   "source": [
    "<p align=\"center\">\n",
    " \n",
    "<img src=\"tuplas.png\" title=\"listas\" width=\"500\" height=\"280\">\n",
    "<div align=\"center\">TUPLAS</div>\n",
    " \n",
    "</p>"
   ]
  },
  {
   "cell_type": "code",
   "execution_count": 4,
   "metadata": {},
   "outputs": [],
   "source": [
    "num=(1,)\n",
    "numeros=(1,3,5,7,9,11,'2')\n",
    "vocales=('a','e','i','o','u')"
   ]
  },
  {
   "cell_type": "code",
   "execution_count": 2,
   "metadata": {},
   "outputs": [],
   "source": [
    "numero=(1)"
   ]
  },
  {
   "cell_type": "code",
   "execution_count": 113,
   "metadata": {},
   "outputs": [
    {
     "name": "stdout",
     "output_type": "stream",
     "text": [
      "(1,)\n"
     ]
    }
   ],
   "source": [
    "print(num)"
   ]
  },
  {
   "cell_type": "code",
   "execution_count": 110,
   "metadata": {},
   "outputs": [
    {
     "data": {
      "text/plain": [
       "(1, 3, 5, 7, 9, 11, '2')"
      ]
     },
     "execution_count": 110,
     "metadata": {},
     "output_type": "execute_result"
    }
   ],
   "source": [
    "numeros"
   ]
  },
  {
   "cell_type": "code",
   "execution_count": 9,
   "metadata": {},
   "outputs": [
    {
     "name": "stdout",
     "output_type": "stream",
     "text": [
      "i\n"
     ]
    }
   ],
   "source": [
    "print(vocales[2])"
   ]
  },
  {
   "cell_type": "code",
   "execution_count": 96,
   "metadata": {},
   "outputs": [
    {
     "name": "stdout",
     "output_type": "stream",
     "text": [
      "7\n",
      "('i', 'o')\n"
     ]
    }
   ],
   "source": [
    "print(numeros[3])\n",
    "print(vocales[2:-1])"
   ]
  },
  {
   "cell_type": "code",
   "execution_count": 16,
   "metadata": {},
   "outputs": [
    {
     "data": {
      "text/plain": [
       "[1, 2, 10, 11, 3, 4]"
      ]
     },
     "execution_count": 16,
     "metadata": {},
     "output_type": "execute_result"
    }
   ],
   "source": [
    "lista=[1,2,3,4]\n",
    "lista[1:1]=[10,11]\n",
    "lista"
   ]
  },
  {
   "cell_type": "code",
   "execution_count": 17,
   "metadata": {},
   "outputs": [
    {
     "data": {
      "text/plain": [
       "[1, 10, 11]"
      ]
     },
     "execution_count": 17,
     "metadata": {},
     "output_type": "execute_result"
    }
   ],
   "source": [
    "lista=[1,2,3,4]\n",
    "lista[1:]=[10,11]\n",
    "lista"
   ]
  },
  {
   "cell_type": "code",
   "execution_count": 12,
   "metadata": {},
   "outputs": [
    {
     "data": {
      "text/plain": [
       "[1, [10, 11], 3, 4]"
      ]
     },
     "execution_count": 12,
     "metadata": {},
     "output_type": "execute_result"
    }
   ],
   "source": [
    "lista=[1,2,3,4]\n",
    "lista[1]=[10,11]\n",
    "lista"
   ]
  },
  {
   "cell_type": "code",
   "execution_count": 22,
   "metadata": {},
   "outputs": [
    {
     "data": {
      "text/plain": [
       "[1, 10, 3, (7, 8, 9), [7, 8, 9], 11]"
      ]
     },
     "execution_count": 22,
     "metadata": {},
     "output_type": "execute_result"
    }
   ],
   "source": [
    "lista.insert(2,3)\n",
    "lista"
   ]
  },
  {
   "cell_type": "code",
   "execution_count": 25,
   "metadata": {},
   "outputs": [
    {
     "name": "stdout",
     "output_type": "stream",
     "text": [
      "2\n"
     ]
    }
   ],
   "source": [
    "if 3 in lista: ## se pregunta si el número 3 está ahí\n",
    "    print(lista.index(3)) ### Se busca la posición del numero 3\n",
    "                          ### si el valor está repetido, el índice que devuelve\n",
    "                          #### es el de la primera aparición\n"
   ]
  },
  {
   "cell_type": "code",
   "execution_count": 16,
   "metadata": {},
   "outputs": [
    {
     "name": "stdout",
     "output_type": "stream",
     "text": [
      "(1, 3, 5, 7, 9, 11, 13, 15, 19)\n"
     ]
    }
   ],
   "source": [
    "numeros=numeros+(13,15,19)\n",
    "print(numeros)"
   ]
  },
  {
   "cell_type": "code",
   "execution_count": 17,
   "metadata": {},
   "outputs": [
    {
     "name": "stdout",
     "output_type": "stream",
     "text": [
      "(1, 3, 5, 7, 9, 11, 13, 15, 19, 1, 3, 5, 7, 9, 11, 13, 15, 19)\n"
     ]
    }
   ],
   "source": [
    "numeros=numeros*2\n",
    "print(numeros)"
   ]
  },
  {
   "cell_type": "markdown",
   "metadata": {},
   "source": [
    "### NO se pueden eliminar datos de una tupla, solo añadir"
   ]
  },
  {
   "cell_type": "markdown",
   "metadata": {},
   "source": [
    "<p align=\"center\">\n",
    " \n",
    "<img src=\"sets.png\" title=\"listas\" width=\"500\" height=\"280\">\n",
    "<div align=\"center\">SETS</div>\n",
    " \n",
    "</p>"
   ]
  },
  {
   "cell_type": "code",
   "execution_count": 108,
   "metadata": {},
   "outputs": [
    {
     "name": "stdout",
     "output_type": "stream",
     "text": [
      "{1, 2, 2.1, 'hola', '2'}\n"
     ]
    }
   ],
   "source": [
    "con={1,2,\"hola\", True,'2',2.1}\n",
    "print(con)"
   ]
  },
  {
   "cell_type": "code",
   "execution_count": 98,
   "metadata": {},
   "outputs": [],
   "source": [
    "numeros={1,2,3,5,4}\n",
    "frutas={\"manzana\", \"peras\",\"higos\"}"
   ]
  },
  {
   "cell_type": "code",
   "execution_count": 100,
   "metadata": {},
   "outputs": [
    {
     "name": "stdout",
     "output_type": "stream",
     "text": [
      "{1, 2, 3, 4, 5, 'manzana', 'peras', 'higos'}\n"
     ]
    }
   ],
   "source": [
    "tienda=numeros.union(frutas)\n",
    "print(tienda)"
   ]
  },
  {
   "cell_type": "code",
   "execution_count": 102,
   "metadata": {},
   "outputs": [
    {
     "name": "stdout",
     "output_type": "stream",
     "text": [
      "True\n"
     ]
    }
   ],
   "source": [
    "print('higos' in tienda)"
   ]
  },
  {
   "cell_type": "code",
   "execution_count": 103,
   "metadata": {},
   "outputs": [
    {
     "name": "stdout",
     "output_type": "stream",
     "text": [
      "{'higos', 'manzana', 'peras'}\n"
     ]
    }
   ],
   "source": [
    "nuevo=tienda.intersection(frutas)\n",
    "print(nuevo)"
   ]
  },
  {
   "cell_type": "code",
   "execution_count": 104,
   "metadata": {},
   "outputs": [
    {
     "name": "stdout",
     "output_type": "stream",
     "text": [
      "{1, 2, 3, 4, 5}\n"
     ]
    }
   ],
   "source": [
    "dif=tienda.difference(frutas)\n",
    "print(dif)"
   ]
  },
  {
   "cell_type": "code",
   "execution_count": 117,
   "metadata": {},
   "outputs": [
    {
     "name": "stdout",
     "output_type": "stream",
     "text": [
      "{1, 2, 3, 4, 8}\n"
     ]
    }
   ],
   "source": [
    "num={1,2,3,4,5,6,7}\n",
    "num2={5,6,7,8}\n",
    "simdif=num.symmetric_difference(num2)\n",
    "print(simdif)"
   ]
  },
  {
   "cell_type": "markdown",
   "metadata": {},
   "source": [
    "### No se puede modificar el dato específico de un set"
   ]
  },
  {
   "cell_type": "code",
   "execution_count": 25,
   "metadata": {},
   "outputs": [
    {
     "name": "stdout",
     "output_type": "stream",
     "text": [
      "{1, 2, 3, 4, 5, 'uvas', 'manzana', 'peras', 'higos'}\n"
     ]
    }
   ],
   "source": [
    "tienda.add(\"uvas\")\n",
    "print(tienda)"
   ]
  },
  {
   "cell_type": "code",
   "execution_count": 26,
   "metadata": {},
   "outputs": [
    {
     "name": "stdout",
     "output_type": "stream",
     "text": [
      "{1, 2, 3, 4, 5, 'uvas', 'manzana', 'peras'}\n"
     ]
    }
   ],
   "source": [
    "tienda.remove('higos')\n",
    "print(tienda)"
   ]
  },
  {
   "cell_type": "code",
   "execution_count": 105,
   "metadata": {},
   "outputs": [
    {
     "data": {
      "text/plain": [
       "1"
      ]
     },
     "execution_count": 105,
     "metadata": {},
     "output_type": "execute_result"
    }
   ],
   "source": [
    "## elimina un elemento arbitrario y lo devuelve\n",
    "tienda.pop()"
   ]
  },
  {
   "cell_type": "code",
   "execution_count": 28,
   "metadata": {},
   "outputs": [
    {
     "name": "stdout",
     "output_type": "stream",
     "text": [
      "set()\n"
     ]
    }
   ],
   "source": [
    "tienda.clear()\n",
    "print(tienda)"
   ]
  },
  {
   "cell_type": "markdown",
   "metadata": {},
   "source": [
    "<p align=\"center\">\n",
    " \n",
    "<img src=\"diccionarios.png\" title=\"listas\" width=\"500\" height=\"280\">\n",
    "<div align=\"center\">DICCIONARIO</div>\n",
    " \n",
    "</p>"
   ]
  },
  {
   "cell_type": "markdown",
   "metadata": {},
   "source": [
    "## CLASE de recuperación: Lunes de 12:2 pm"
   ]
  },
  {
   "cell_type": "code",
   "execution_count": 139,
   "metadata": {},
   "outputs": [
    {
     "name": "stdout",
     "output_type": "stream",
     "text": [
      "{'Peras': 20, 'manzanas': 2, 'Higos': 24}\n"
     ]
    }
   ],
   "source": [
    "diccionario={\"Peras\"   : 20,\n",
    "             \"manzanas\": 2,\n",
    "             \"Higos\"   : 24,\n",
    "             \"papitas\" : 20\n",
    "            }\n",
    "\n",
    "print(diccionario)"
   ]
  },
  {
   "cell_type": "code",
   "execution_count": 2,
   "metadata": {},
   "outputs": [
    {
     "data": {
      "text/plain": [
       "{'Titulo': 'Titulo del libro',\n",
       " 'Capitulo 1: Introducción': {'Resumen': 'el resumen',\n",
       "  'Numero de paginas': 125,\n",
       "  'Numero de ilustraciones': 4},\n",
       " 'Capitulo 2: parte 1': {'Resumen': 'el resumen',\n",
       "  'Numero de paginas': 125,\n",
       "  'Numero de ilustraciones': 4},\n",
       " 'Glosario': {'palabra': 'significado', 'palabra1': 'significado1'},\n",
       " 'Bibliografía': ' Referencias',\n",
       " 'Apendice': ' apendices'}"
      ]
     },
     "execution_count": 2,
     "metadata": {},
     "output_type": "execute_result"
    }
   ],
   "source": [
    "libro={\"Titulo\" : \"Titulo del libro\",\n",
    "       \"Capitulo 1: Introducción\": {\"Resumen\": \"el resumen\",\n",
    "                                    \"Numero de paginas\": 125,\n",
    "                                    \"Numero de ilustraciones\": 4\n",
    "                                   } ,\n",
    "       \"Capitulo 2: parte 1\": {\"Resumen\": \"el resumen\",\n",
    "                                    \"Numero de paginas\": 125,\n",
    "                                    \"Numero de ilustraciones\": 4\n",
    "                                   } ,\n",
    "       \"Glosario\" : {\"palabra\": \"significado\",\n",
    "                    \"palabra1\": \"significado1\"                   \n",
    "                   } ,\n",
    "       \"Bibliografía\":\" Referencias\",\n",
    "       \"Apendice\": \" apendices\"\n",
    "        }\n",
    "libro"
   ]
  },
  {
   "cell_type": "code",
   "execution_count": 3,
   "metadata": {},
   "outputs": [
    {
     "data": {
      "text/plain": [
       "{'Resumen': 'el resumen',\n",
       " 'Numero de paginas': 125,\n",
       " 'Numero de ilustraciones': 4}"
      ]
     },
     "execution_count": 3,
     "metadata": {},
     "output_type": "execute_result"
    }
   ],
   "source": [
    "libro[\"Capitulo 1: Introducción\"]"
   ]
  },
  {
   "cell_type": "code",
   "execution_count": 7,
   "metadata": {},
   "outputs": [
    {
     "name": "stdout",
     "output_type": "stream",
     "text": [
      "{'capitulo': 'hola'}\n"
     ]
    }
   ],
   "source": [
    "diccionario={}\n",
    "diccionario[\"capitulo\"]=\"hola\"\n",
    "print(diccionario)"
   ]
  },
  {
   "cell_type": "code",
   "execution_count": 8,
   "metadata": {},
   "outputs": [
    {
     "name": "stdout",
     "output_type": "stream",
     "text": [
      "Ingrese el nombre del capituloCapitulo 1: Introducción\n",
      "ingrese datos del capituloEste es el dato\n",
      "{'Capitulo 1: Introducción': 'Este es el dato'}\n"
     ]
    }
   ],
   "source": [
    "nuevodir={}\n",
    "cap=input(\"Ingrese el nombre del capitulo\")\n",
    "datos=input(\"ingrese datos del capitulo\")\n",
    "nuevodir[cap]=datos\n",
    "print(nuevodir)"
   ]
  },
  {
   "cell_type": "code",
   "execution_count": null,
   "metadata": {},
   "outputs": [],
   "source": []
  },
  {
   "cell_type": "code",
   "execution_count": null,
   "metadata": {},
   "outputs": [],
   "source": []
  },
  {
   "cell_type": "code",
   "execution_count": 142,
   "metadata": {},
   "outputs": [],
   "source": [
    "diccionario[\"Peras\"]=30"
   ]
  },
  {
   "cell_type": "code",
   "execution_count": 143,
   "metadata": {},
   "outputs": [
    {
     "data": {
      "text/plain": [
       "30"
      ]
     },
     "execution_count": 143,
     "metadata": {},
     "output_type": "execute_result"
    }
   ],
   "source": [
    "diccionario[\"Peras\"]"
   ]
  },
  {
   "cell_type": "code",
   "execution_count": 144,
   "metadata": {},
   "outputs": [
    {
     "data": {
      "text/plain": [
       "{'manzanas': 2, 'Higos': 24, 'peras': 30}"
      ]
     },
     "execution_count": 144,
     "metadata": {},
     "output_type": "execute_result"
    }
   ],
   "source": [
    "diccionario.pop(\"Peras\")\n",
    "diccionario"
   ]
  },
  {
   "cell_type": "code",
   "execution_count": 124,
   "metadata": {},
   "outputs": [
    {
     "data": {
      "text/plain": [
       "{'manzanas': 2, 'Higos': 24, 1: 'hola', 'garbanzos': 20}"
      ]
     },
     "execution_count": 124,
     "metadata": {},
     "output_type": "execute_result"
    }
   ],
   "source": [
    "diccionario[\"garbanzos\"]=20\n",
    "diccionario"
   ]
  },
  {
   "cell_type": "code",
   "execution_count": 125,
   "metadata": {},
   "outputs": [
    {
     "data": {
      "text/plain": [
       "{'manzanas': 2, 'Higos': 24, 1: 'hola'}"
      ]
     },
     "execution_count": 125,
     "metadata": {},
     "output_type": "execute_result"
    }
   ],
   "source": [
    "diccionario.popitem()\n",
    "diccionario"
   ]
  },
  {
   "cell_type": "code",
   "execution_count": 151,
   "metadata": {},
   "outputs": [
    {
     "data": {
      "text/plain": [
       "{'Peras': 20, 'manzanas': 2, 'Higos': 40}"
      ]
     },
     "execution_count": 151,
     "metadata": {},
     "output_type": "execute_result"
    }
   ],
   "source": [
    "diccionario={\n",
    "    \"Peras\":20,\n",
    "    \"manzanas\": 2    \n",
    "}\n",
    "\n",
    "diccionario[\"Higos\"]=40\n",
    "diccionario"
   ]
  },
  {
   "cell_type": "code",
   "execution_count": 127,
   "metadata": {},
   "outputs": [],
   "source": [
    "del diccionario[\"Higos\"]"
   ]
  },
  {
   "cell_type": "code",
   "execution_count": 128,
   "metadata": {},
   "outputs": [
    {
     "data": {
      "text/plain": [
       "{'manzanas': 2, 1: 'hola'}"
      ]
     },
     "execution_count": 128,
     "metadata": {},
     "output_type": "execute_result"
    }
   ],
   "source": [
    "diccionario"
   ]
  },
  {
   "cell_type": "code",
   "execution_count": 129,
   "metadata": {},
   "outputs": [],
   "source": [
    "nuevo=diccionario.fromkeys(\"Peras\")"
   ]
  },
  {
   "cell_type": "code",
   "execution_count": 130,
   "metadata": {},
   "outputs": [
    {
     "name": "stdout",
     "output_type": "stream",
     "text": [
      "P\n",
      "e\n",
      "r\n",
      "a\n",
      "s\n"
     ]
    }
   ],
   "source": [
    "for i in nuevo:\n",
    "    print(i)"
   ]
  },
  {
   "cell_type": "code",
   "execution_count": 155,
   "metadata": {},
   "outputs": [
    {
     "name": "stdout",
     "output_type": "stream",
     "text": [
      "None\n"
     ]
    }
   ],
   "source": [
    "q=diccionario.get(\"carros\")\n",
    "print(q)"
   ]
  },
  {
   "cell_type": "code",
   "execution_count": 154,
   "metadata": {},
   "outputs": [
    {
     "ename": "KeyError",
     "evalue": "'carros'",
     "output_type": "error",
     "traceback": [
      "\u001b[1;31m---------------------------------------------------------------------------\u001b[0m",
      "\u001b[1;31mKeyError\u001b[0m                                  Traceback (most recent call last)",
      "\u001b[1;32m<ipython-input-154-26597c3d21eb>\u001b[0m in \u001b[0;36m<module>\u001b[1;34m\u001b[0m\n\u001b[1;32m----> 1\u001b[1;33m \u001b[0mdiccionario\u001b[0m\u001b[1;33m[\u001b[0m\u001b[1;34m\"carros\"\u001b[0m\u001b[1;33m]\u001b[0m\u001b[1;33m\u001b[0m\u001b[1;33m\u001b[0m\u001b[0m\n\u001b[0m",
      "\u001b[1;31mKeyError\u001b[0m: 'carros'"
     ]
    }
   ],
   "source": [
    "diccionario[\"carros\"]"
   ]
  },
  {
   "cell_type": "code",
   "execution_count": 132,
   "metadata": {
    "scrolled": false
   },
   "outputs": [
    {
     "data": {
      "text/plain": [
       "dict_items([('manzanas', 2), (1, 'hola')])"
      ]
     },
     "execution_count": 132,
     "metadata": {},
     "output_type": "execute_result"
    }
   ],
   "source": [
    "a=diccionario.items()\n",
    "a"
   ]
  },
  {
   "cell_type": "code",
   "execution_count": 156,
   "metadata": {},
   "outputs": [],
   "source": [
    "colores=[\"rojo\", \"blanco\", \"azul\"]\n",
    "\n",
    "autos = {\n",
    "  \"marca\"     : \"mazda\",\n",
    "  \"asegurado\" : False,\n",
    "  \"año\"       : 1964,\n",
    "  \"colores\"   : colores\n",
    "  }\n"
   ]
  },
  {
   "cell_type": "code",
   "execution_count": 157,
   "metadata": {},
   "outputs": [
    {
     "name": "stdout",
     "output_type": "stream",
     "text": [
      "{'marca': 'mazda', 'asegurado': False, 'año': 1964, 'colores': ['rojo', 'blanco', 'azul']}\n"
     ]
    }
   ],
   "source": [
    "print(autos)"
   ]
  },
  {
   "cell_type": "code",
   "execution_count": 158,
   "metadata": {},
   "outputs": [
    {
     "name": "stdout",
     "output_type": "stream",
     "text": [
      "['rojo', 'blanco', 'azul']\n"
     ]
    }
   ],
   "source": [
    "print(autos[\"colores\"])"
   ]
  },
  {
   "cell_type": "code",
   "execution_count": 55,
   "metadata": {},
   "outputs": [
    {
     "name": "stdout",
     "output_type": "stream",
     "text": [
      "El valor de la clave color es rosa\n",
      "El valor de la clave marca es Zara\n",
      "El valor de la clave talle es U\n"
     ]
    }
   ],
   "source": [
    "diccionario = {'color': 'rosa', 'marca': 'Zara', 'talle': 'U'} \n",
    "for clave, valor in diccionario.items(): \n",
    "    print(\"El valor de la clave %s es %s\" %(clave, valor))"
   ]
  },
  {
   "cell_type": "code",
   "execution_count": 56,
   "metadata": {},
   "outputs": [
    {
     "data": {
      "text/plain": [
       "dict_values(['rosa', 'Zara', 'U'])"
      ]
     },
     "execution_count": 56,
     "metadata": {},
     "output_type": "execute_result"
    }
   ],
   "source": [
    "diccionario.values()"
   ]
  },
  {
   "cell_type": "code",
   "execution_count": 57,
   "metadata": {},
   "outputs": [
    {
     "data": {
      "text/plain": [
       "3"
      ]
     },
     "execution_count": 57,
     "metadata": {},
     "output_type": "execute_result"
    }
   ],
   "source": [
    "len(diccionario)"
   ]
  },
  {
   "cell_type": "markdown",
   "metadata": {},
   "source": [
    "<p align=\"center\">\n",
    " \n",
    "<img src=\"preguntas.png\" title=\"listas\" width=\"500\" height=\"280\">\n",
    "<div align=\"center\">LISTAS</div>\n",
    " \n",
    "</p>"
   ]
  },
  {
   "cell_type": "markdown",
   "metadata": {},
   "source": [
    "## Datos Anidados"
   ]
  },
  {
   "cell_type": "markdown",
   "metadata": {},
   "source": [
    "### Anidación en diccionarios"
   ]
  },
  {
   "cell_type": "code",
   "execution_count": 16,
   "metadata": {},
   "outputs": [],
   "source": [
    "libro={\n",
    "    \"capitulo 1\": {\n",
    "        \"paginas\": 20,\n",
    "        \"ilustraciones\": 12,\n",
    "        \"Titulos\":[\"tema 1\", \"tema 2\", \"tema 3\", {\"sesion especial\":\"agradecimientos\",\"autores\":\"Juan, David\" }]\n",
    "        \n",
    "        },\n",
    "    \"capitulo 2\":{\n",
    "        \"paginas\":12,\n",
    "        \"ilustraciones\":2\n",
    "        \n",
    "        }\n",
    "    \n",
    "}"
   ]
  },
  {
   "cell_type": "code",
   "execution_count": 2,
   "metadata": {},
   "outputs": [
    {
     "data": {
      "text/plain": [
       "{'paginas': 20,\n",
       " 'ilustraciones': 12,\n",
       " 'Titulos': ['tema 1',\n",
       "  'tema 2',\n",
       "  'tema 3',\n",
       "  {'sesion especial': 'agradecimientos', 'autores': 'Juan, David'}]}"
      ]
     },
     "execution_count": 2,
     "metadata": {},
     "output_type": "execute_result"
    }
   ],
   "source": [
    "libro[\"capitulo 1\"]"
   ]
  },
  {
   "cell_type": "code",
   "execution_count": 3,
   "metadata": {},
   "outputs": [
    {
     "data": {
      "text/plain": [
       "20"
      ]
     },
     "execution_count": 3,
     "metadata": {},
     "output_type": "execute_result"
    }
   ],
   "source": [
    "libro['capitulo 1'][\"paginas\"]"
   ]
  },
  {
   "cell_type": "code",
   "execution_count": 4,
   "metadata": {},
   "outputs": [
    {
     "name": "stdout",
     "output_type": "stream",
     "text": [
      "tema 3\n"
     ]
    }
   ],
   "source": [
    "libro[\"capitulo 1\"][\"Titulos\"].append(\"tema 4\")\n",
    "print(libro[\"capitulo 1\"][\"Titulos\"][2])"
   ]
  },
  {
   "cell_type": "code",
   "execution_count": 5,
   "metadata": {},
   "outputs": [
    {
     "name": "stdout",
     "output_type": "stream",
     "text": [
      "{'capitulo 1': 'Ejemplo', 'capitulo 2': {'paginas': 12, 'ilustraciones': 2}}\n"
     ]
    }
   ],
   "source": [
    "### Cambiar un elemento a cualquier nivel\n",
    "libro[\"capitulo 1\"]=\"Ejemplo\"\n",
    "print(libro)"
   ]
  },
  {
   "cell_type": "code",
   "execution_count": 6,
   "metadata": {},
   "outputs": [
    {
     "name": "stdout",
     "output_type": "stream",
     "text": [
      "{'capitulo 1': 'Ejemplo', 'capitulo 2': {'paginas': 12, 'ilustraciones': 2}, 'capitulo 3': {'ilustraciones': 0, 'paginas': 15}}\n"
     ]
    }
   ],
   "source": [
    "### Añadir elementos\n",
    "libro[\"capitulo 3\"]={\"ilustraciones\":0, \"paginas\":15}\n",
    "print(libro)"
   ]
  },
  {
   "cell_type": "code",
   "execution_count": 7,
   "metadata": {},
   "outputs": [
    {
     "name": "stdout",
     "output_type": "stream",
     "text": [
      "{'capitulo 1': 'Ejemplo', 'capitulo 2': {'paginas': 12}, 'capitulo 3': {'ilustraciones': 0, 'paginas': 15}}\n"
     ]
    }
   ],
   "source": [
    "del libro[\"capitulo 2\"][\"ilustraciones\"]\n",
    "print(libro)"
   ]
  },
  {
   "cell_type": "code",
   "execution_count": 8,
   "metadata": {},
   "outputs": [
    {
     "data": {
      "text/plain": [
       "{'paginas': 12}"
      ]
     },
     "execution_count": 8,
     "metadata": {},
     "output_type": "execute_result"
    }
   ],
   "source": [
    "libro.pop(\"capitulo 2\")"
   ]
  },
  {
   "cell_type": "markdown",
   "metadata": {},
   "source": [
    "### Anidación de Tuplas"
   ]
  },
  {
   "cell_type": "code",
   "execution_count": 19,
   "metadata": {},
   "outputs": [],
   "source": [
    "tuplas=(1,2,3,('a','b','c',(3,5,6)))"
   ]
  },
  {
   "cell_type": "code",
   "execution_count": 21,
   "metadata": {},
   "outputs": [
    {
     "data": {
      "text/plain": [
       "6"
      ]
     },
     "execution_count": 21,
     "metadata": {},
     "output_type": "execute_result"
    }
   ],
   "source": [
    "tuplas[3][3][2]"
   ]
  },
  {
   "cell_type": "code",
   "execution_count": 1,
   "metadata": {},
   "outputs": [
    {
     "name": "stdout",
     "output_type": "stream",
     "text": [
      "(1, 2, 3, ['a', 'b'], {'cancion': 'cry', 'duracion': 15}, {2, 3, 5, 7})\n"
     ]
    }
   ],
   "source": [
    "tupla=(1,2,3,[\"a\",\"b\"],{\"cancion\":\"cry\",\"duracion\":15},{2,3,5,7})\n",
    "print(tupla)"
   ]
  },
  {
   "cell_type": "code",
   "execution_count": 2,
   "metadata": {},
   "outputs": [
    {
     "data": {
      "text/plain": [
       "'b'"
      ]
     },
     "execution_count": 2,
     "metadata": {},
     "output_type": "execute_result"
    }
   ],
   "source": [
    "tupla[3][1]"
   ]
  },
  {
   "cell_type": "code",
   "execution_count": 3,
   "metadata": {},
   "outputs": [
    {
     "data": {
      "text/plain": [
       "'cry'"
      ]
     },
     "execution_count": 3,
     "metadata": {},
     "output_type": "execute_result"
    }
   ],
   "source": [
    "tupla[4][\"cancion\"]"
   ]
  },
  {
   "cell_type": "code",
   "execution_count": 4,
   "metadata": {},
   "outputs": [
    {
     "data": {
      "text/plain": [
       "tuple"
      ]
     },
     "execution_count": 4,
     "metadata": {},
     "output_type": "execute_result"
    }
   ],
   "source": [
    "type(tupla)"
   ]
  },
  {
   "cell_type": "markdown",
   "metadata": {},
   "source": [
    "### Anidacion en Listas"
   ]
  },
  {
   "cell_type": "code",
   "execution_count": 33,
   "metadata": {},
   "outputs": [],
   "source": [
    "lista= [1,2,3,4,[\"blanco\",\"negro\",\"azul\",[\"azul-verde\",\"azul-morado\"]]]"
   ]
  },
  {
   "cell_type": "code",
   "execution_count": 34,
   "metadata": {},
   "outputs": [
    {
     "name": "stdout",
     "output_type": "stream",
     "text": [
      "[1, 2, 3, 4, ['blanco', 'negro', 'azul', ['azul-verde', 'azul-morado']]]\n"
     ]
    }
   ],
   "source": [
    "print(lista)"
   ]
  },
  {
   "cell_type": "code",
   "execution_count": 35,
   "metadata": {},
   "outputs": [
    {
     "data": {
      "text/plain": [
       "'azul-verde'"
      ]
     },
     "execution_count": 35,
     "metadata": {},
     "output_type": "execute_result"
    }
   ],
   "source": [
    "lista[4][3][0]"
   ]
  },
  {
   "cell_type": "code",
   "execution_count": 38,
   "metadata": {},
   "outputs": [
    {
     "name": "stdout",
     "output_type": "stream",
     "text": [
      "['hola', 1, 2, {'elemento': 1, 'causa': 2}]\n"
     ]
    }
   ],
   "source": [
    "lista_dicc=[\"hola\",1,2,{\"elemento\":1,\"causa\":2}]\n",
    "print(lista_dicc)"
   ]
  },
  {
   "cell_type": "code",
   "execution_count": 40,
   "metadata": {},
   "outputs": [
    {
     "data": {
      "text/plain": [
       "1"
      ]
     },
     "execution_count": 40,
     "metadata": {},
     "output_type": "execute_result"
    }
   ],
   "source": [
    "lista_dicc[3][\"elemento\"]"
   ]
  },
  {
   "cell_type": "markdown",
   "metadata": {},
   "source": [
    "### Anidacion sets: solo pueden anidar tuplas"
   ]
  },
  {
   "cell_type": "code",
   "execution_count": 23,
   "metadata": {},
   "outputs": [],
   "source": [
    "b={1,2,4,4,5}"
   ]
  },
  {
   "cell_type": "code",
   "execution_count": 16,
   "metadata": {},
   "outputs": [],
   "source": [
    "a={1,2,4,(1,2)} "
   ]
  },
  {
   "cell_type": "code",
   "execution_count": 24,
   "metadata": {},
   "outputs": [
    {
     "data": {
      "text/plain": [
       "{1, 2, 4}"
      ]
     },
     "execution_count": 24,
     "metadata": {},
     "output_type": "execute_result"
    }
   ],
   "source": [
    "a.intersection(b)"
   ]
  },
  {
   "cell_type": "code",
   "execution_count": 27,
   "metadata": {},
   "outputs": [
    {
     "ename": "TypeError",
     "evalue": "unhashable type: 'dict'",
     "output_type": "error",
     "traceback": [
      "\u001b[1;31m---------------------------------------------------------------------------\u001b[0m",
      "\u001b[1;31mTypeError\u001b[0m                                 Traceback (most recent call last)",
      "\u001b[1;32m<ipython-input-27-f2128926c7ac>\u001b[0m in \u001b[0;36m<module>\u001b[1;34m\u001b[0m\n\u001b[0;32m      2\u001b[0m \u001b[1;31m# a={1,2,4,[1,2]} ## error\u001b[0m\u001b[1;33m\u001b[0m\u001b[1;33m\u001b[0m\u001b[1;33m\u001b[0m\u001b[0m\n\u001b[0;32m      3\u001b[0m \u001b[1;31m# a={1,2,4,{1,2}} ## error\u001b[0m\u001b[1;33m\u001b[0m\u001b[1;33m\u001b[0m\u001b[1;33m\u001b[0m\u001b[0m\n\u001b[1;32m----> 4\u001b[1;33m \u001b[0ma\u001b[0m\u001b[1;33m=\u001b[0m\u001b[1;33m{\u001b[0m\u001b[1;36m1\u001b[0m\u001b[1;33m,\u001b[0m\u001b[1;36m2\u001b[0m\u001b[1;33m,\u001b[0m\u001b[1;36m4\u001b[0m\u001b[1;33m,\u001b[0m\u001b[1;33m{\u001b[0m\u001b[1;34m\"num1\"\u001b[0m\u001b[1;33m:\u001b[0m\u001b[1;36m1\u001b[0m\u001b[1;33m,\u001b[0m\u001b[1;34m\"num2\"\u001b[0m\u001b[1;33m:\u001b[0m\u001b[1;36m2\u001b[0m\u001b[1;33m}\u001b[0m\u001b[1;33m}\u001b[0m\u001b[1;33m\u001b[0m\u001b[1;33m\u001b[0m\u001b[0m\n\u001b[0m",
      "\u001b[1;31mTypeError\u001b[0m: unhashable type: 'dict'"
     ]
    }
   ],
   "source": [
    "## ERRRORES:\n",
    "a={1,2,4,[1,2]} ## error\n",
    "a={1,2,4,{1,2}} ## error\n",
    "a={1,2,4,{\"num1\":1,\"num2\":2}} ## error"
   ]
  },
  {
   "cell_type": "markdown",
   "metadata": {},
   "source": [
    "### Recorrido y creación de estructuras de datos"
   ]
  },
  {
   "cell_type": "code",
   "execution_count": 1,
   "metadata": {},
   "outputs": [
    {
     "name": "stdout",
     "output_type": "stream",
     "text": [
      "ingrese nombrealejo\n",
      "ingrese edad34\n",
      "¿Desea ingresar un dato nuevo? (s/n)n\n",
      "alejo\n",
      "34\n",
      "[{'nombre': 'alejo', 'edad': '34'}]\n"
     ]
    }
   ],
   "source": [
    "datos=[]\n",
    "while(True):\n",
    "    nombre=input(\"ingrese nombre\")\n",
    "    edad=input(\"ingrese edad\")\n",
    "    dato={\n",
    "        'nombre':nombre,\n",
    "        'edad':edad\n",
    "    }\n",
    "    datos.append(dato)\n",
    "    opcion=input(\"¿Desea ingresar un dato nuevo? (s/n)\" )\n",
    "    if opcion=='n':\n",
    "        break\n",
    "\n",
    "for i in datos:\n",
    "    print(i['nombre'])\n",
    "    print(i['edad'])\n",
    "    \n",
    "print(datos)  \n"
   ]
  },
  {
   "cell_type": "code",
   "execution_count": 29,
   "metadata": {},
   "outputs": [
    {
     "name": "stdout",
     "output_type": "stream",
     "text": [
      "[{'nombre': 'alej', 'edad': '23'}, {'nombre': 'juan', 'edad': '23'}, {'nombre': 'pedro', 'edad': '45'}, {'nombre': 'lina', 'edad': '24'}, {'nombre': 'ale', 'edad': '44'}]\n"
     ]
    }
   ],
   "source": [
    "print(datos)"
   ]
  },
  {
   "cell_type": "code",
   "execution_count": null,
   "metadata": {},
   "outputs": [],
   "source": [
    "a=0\n",
    "b=2\n",
    "if (a==1) and (b==2):\n",
    "    print(\"no es lo que se buscaba\")\n",
    "elif (a==0) and (b==2): \n",
    "    print(\"Es correcto\")\n",
    "    print(\"asdasd\")\n",
    "    "
   ]
  },
  {
   "cell_type": "markdown",
   "metadata": {},
   "source": [
    "### Por Comprension"
   ]
  },
  {
   "cell_type": "code",
   "execution_count": 1,
   "metadata": {},
   "outputs": [
    {
     "name": "stdout",
     "output_type": "stream",
     "text": [
      "hola1\n",
      "hola2\n",
      "hola3\n",
      "hola\n",
      "hola4\n",
      "hola5\n",
      "hola6\n",
      "hola3\n",
      "hola2\n"
     ]
    },
    {
     "data": {
      "text/plain": [
       "{'', '1', '2', '3', '4', '5', '6'}"
      ]
     },
     "execution_count": 1,
     "metadata": {},
     "output_type": "execute_result"
    }
   ],
   "source": [
    "{j for j in range(9)}"
   ]
  },
  {
   "cell_type": "code",
   "execution_count": 2,
   "metadata": {},
   "outputs": [
    {
     "name": "stdout",
     "output_type": "stream",
     "text": [
      "hola1\n",
      "hola2\n",
      "hola3\n",
      "hola4\n",
      "hola8\n",
      "hola9\n",
      "hola4\n",
      "hola5\n",
      "hola2\n"
     ]
    },
    {
     "data": {
      "text/plain": [
       "{'1', '2', '3', '4', '5', '8', '9'}"
      ]
     },
     "execution_count": 2,
     "metadata": {},
     "output_type": "execute_result"
    }
   ],
   "source": [
    "{input(\"hola\") for j in range(9)}"
   ]
  },
  {
   "cell_type": "code",
   "execution_count": 8,
   "metadata": {},
   "outputs": [
    {
     "data": {
      "text/plain": [
       "[0, 2, 4, 6, 8]"
      ]
     },
     "execution_count": 8,
     "metadata": {},
     "output_type": "execute_result"
    }
   ],
   "source": [
    "[k for k in range(10) if k%2==0]"
   ]
  },
  {
   "cell_type": "code",
   "execution_count": 1,
   "metadata": {},
   "outputs": [],
   "source": [
    "languages = [\"python\", \"c\", \"c++\", \"java\"]"
   ]
  },
  {
   "cell_type": "code",
   "execution_count": 2,
   "metadata": {},
   "outputs": [],
   "source": [
    "cap_languages = [language.capitalize() for language in languages]"
   ]
  },
  {
   "cell_type": "code",
   "execution_count": 3,
   "metadata": {},
   "outputs": [
    {
     "data": {
      "text/plain": [
       "['Python', 'C', 'C++', 'Java']"
      ]
     },
     "execution_count": 3,
     "metadata": {},
     "output_type": "execute_result"
    }
   ],
   "source": [
    "cap_languages"
   ]
  },
  {
   "cell_type": "code",
   "execution_count": 4,
   "metadata": {},
   "outputs": [],
   "source": [
    "numeros=[1,2,3,5,5]\n",
    "doblar_num = [n * 2 for n in numeros]"
   ]
  },
  {
   "cell_type": "code",
   "execution_count": 5,
   "metadata": {},
   "outputs": [
    {
     "data": {
      "text/plain": [
       "[2, 4, 6, 10, 10]"
      ]
     },
     "execution_count": 5,
     "metadata": {},
     "output_type": "execute_result"
    }
   ],
   "source": [
    "doblar_num"
   ]
  },
  {
   "cell_type": "code",
   "execution_count": 7,
   "metadata": {},
   "outputs": [],
   "source": [
    "### Esquema para la creación de este tipo de sentencias\n",
    "### [expresion for variable in colección if condición]"
   ]
  },
  {
   "cell_type": "code",
   "execution_count": 8,
   "metadata": {},
   "outputs": [
    {
     "name": "stdout",
     "output_type": "stream",
     "text": [
      "[(0, 0), (1, 0), (2, 0), (3, 0), (4, 0), (5, 0), (6, 0), (7, 0), (8, 0), (9, 0), (10, 0), (0, 1), (1, 1), (2, 1), (3, 1), (4, 1), (5, 1), (6, 1), (7, 1), (8, 1), (9, 1), (10, 1), (0, 2), (1, 2), (2, 2), (3, 2), (4, 2), (5, 2), (6, 2), (7, 2), (8, 2), (9, 2), (10, 2), (0, 3), (1, 3), (2, 3), (3, 3), (4, 3), (5, 3), (6, 3), (7, 3), (8, 3), (9, 3), (10, 3), (0, 4), (1, 4), (2, 4), (3, 4), (4, 4), (5, 4), (6, 4), (7, 4), (8, 4), (9, 4), (10, 4), (0, 5), (1, 5), (2, 5), (3, 5), (4, 5), (5, 5), (6, 5), (7, 5), (8, 5), (9, 5), (10, 5)]\n"
     ]
    }
   ],
   "source": [
    "points = [(x, y) for y in range(0, 5 + 1) for x in range(0, 10 + 1)]\n",
    "print(points)"
   ]
  },
  {
   "cell_type": "code",
   "execution_count": 24,
   "metadata": {},
   "outputs": [],
   "source": [
    "%%capture\n",
    "Diccionario={1: {'y_0': 1.0,   'y_1': 1.0,   'y_2': 0.0,   'y_3': 1.0,   'y_4': 1.0,   'y_5': 0.0,   'y_6': 1.0,   'y_7': 1.0,\n",
    "  'y_8': 1.0,   'x_0': 0.0,   'x_2': 1.0,    'x_7': 0.0,  'c1a_0@int_slack@0': 0.0,  'c1a_1@int_slack@0': 1.0,\n",
    "  'c1a_1@int_slack@1': 0.0,  'c1a_2@int_slack@0': 0.0,  'c1a_3@int_slack@0': 0.0,  'c1a_4@int_slack@0': 0.0,\n",
    "  'c1a_5@int_slack@0': 0.0,  'c1a_6@int_slack@0': 0.0,  'c1a_7@int_slack@0': 0.0,  'c1a_8@int_slack@0': 0.0,\n",
    "  'valor': 25.0,   'tiempo': 39.533639907836914}, \n",
    " 2: {'y_0': 1.0,  'y_1': 1.0,   'y_2': 0.0,  'y_3': 1.0,  'y_4': 1.0,  'y_5': 0.0,  'y_6': 1.0,  'y_7': 1.0,\n",
    "  'y_8': 1.0,  'x_0': 0.0,  'x_2': 1.0,  'x_7': 0.0,  'c1a_0@int_slack@0': 0.0,  'c1a_1@int_slack@0': 1.0,  'c1a_1@int_slack@1': 0.0,\n",
    "  'c1a_2@int_slack@0': 0.0,  'c1a_3@int_slack@0': 0.0,  'c1a_4@int_slack@0': 0.0,  'c1a_5@int_slack@0': 0.0,\n",
    "  'c1a_6@int_slack@0': 0.0,  'c1a_7@int_slack@0': 0.0,  'c1a_8@int_slack@0': 0.0,  'valor': 25.0,  'tiempo': 31.193804502487183}}"
   ]
  },
  {
   "cell_type": "code",
   "execution_count": 25,
   "metadata": {},
   "outputs": [],
   "source": [
    "keys= list(Diccionario[1].keys())"
   ]
  },
  {
   "cell_type": "code",
   "execution_count": 29,
   "metadata": {},
   "outputs": [],
   "source": [
    "Diccionario_2={i:{key:Diccionario[i][key] for key in keys } for i in Diccionario}"
   ]
  },
  {
   "cell_type": "code",
   "execution_count": 30,
   "metadata": {},
   "outputs": [
    {
     "data": {
      "text/plain": [
       "{0: {0: 0, 1: 1, 2: 4, 3: 9, 4: 16},\n",
       " 1: {0: 0, 1: 1, 2: 4, 3: 9, 4: 16},\n",
       " 2: {0: 0, 1: 1, 2: 4, 3: 9, 4: 16}}"
      ]
     },
     "execution_count": 30,
     "metadata": {},
     "output_type": "execute_result"
    }
   ],
   "source": [
    "Diccionario_3={i:{key:key*key for key in range(5) } for i in range(3)}\n",
    "Diccionario_3"
   ]
  },
  {
   "cell_type": "code",
   "execution_count": 31,
   "metadata": {},
   "outputs": [
    {
     "data": {
      "text/plain": [
       "{0: {0: {0: 0, 1: 1, 2: 4, 3: 9, 4: 16},\n",
       "  1: {0: 0, 1: 1, 2: 4, 3: 9, 4: 16},\n",
       "  2: {0: 0, 1: 1, 2: 4, 3: 9, 4: 16},\n",
       "  3: {0: 0, 1: 1, 2: 4, 3: 9, 4: 16},\n",
       "  4: {0: 0, 1: 1, 2: 4, 3: 9, 4: 16}},\n",
       " 1: {0: {0: 0, 1: 1, 2: 4, 3: 9, 4: 16},\n",
       "  1: {0: 0, 1: 1, 2: 4, 3: 9, 4: 16},\n",
       "  2: {0: 0, 1: 1, 2: 4, 3: 9, 4: 16},\n",
       "  3: {0: 0, 1: 1, 2: 4, 3: 9, 4: 16},\n",
       "  4: {0: 0, 1: 1, 2: 4, 3: 9, 4: 16}},\n",
       " 2: {0: {0: 0, 1: 1, 2: 4, 3: 9, 4: 16},\n",
       "  1: {0: 0, 1: 1, 2: 4, 3: 9, 4: 16},\n",
       "  2: {0: 0, 1: 1, 2: 4, 3: 9, 4: 16},\n",
       "  3: {0: 0, 1: 1, 2: 4, 3: 9, 4: 16},\n",
       "  4: {0: 0, 1: 1, 2: 4, 3: 9, 4: 16}}}"
      ]
     },
     "execution_count": 31,
     "metadata": {},
     "output_type": "execute_result"
    }
   ],
   "source": [
    "Diccionario_3={i:{key:{key:key*key for key in range(5) } for key in range(5) } for i in range(3)}\n",
    "Diccionario_3"
   ]
  },
  {
   "cell_type": "code",
   "execution_count": 4,
   "metadata": {},
   "outputs": [
    {
     "data": {
      "text/plain": [
       "{1: 1, 2: 4, 3: 9, 4: 16}"
      ]
     },
     "execution_count": 4,
     "metadata": {},
     "output_type": "execute_result"
    }
   ],
   "source": [
    "## dict(<clave>, <valor> for <elemento> in <iterable>)\n",
    "dict((x, x * x) for x in (1, 2, 3, 4))"
   ]
  },
  {
   "cell_type": "code",
   "execution_count": 20,
   "metadata": {},
   "outputs": [
    {
     "data": {
      "text/plain": [
       "{1: 1, 2: 4, 3: 9, 4: 16}"
      ]
     },
     "execution_count": 20,
     "metadata": {},
     "output_type": "execute_result"
    }
   ],
   "source": [
    "{x: x * x for x in (1, 2, 3, 4)} "
   ]
  },
  {
   "cell_type": "code",
   "execution_count": 22,
   "metadata": {},
   "outputs": [
    {
     "ename": "SyntaxError",
     "evalue": "invalid syntax (<ipython-input-22-5bef06513acb>, line 2)",
     "output_type": "error",
     "traceback": [
      "\u001b[1;36m  File \u001b[1;32m\"<ipython-input-22-5bef06513acb>\"\u001b[1;36m, line \u001b[1;32m2\u001b[0m\n\u001b[1;33m    {{ j,x: x * x for x in (1, 2, 3, 4)} for j in range(4)}\u001b[0m\n\u001b[1;37m          ^\u001b[0m\n\u001b[1;31mSyntaxError\u001b[0m\u001b[1;31m:\u001b[0m invalid syntax\n"
     ]
    }
   ],
   "source": [
    "## {<clave>, <valor> for <elemento> in <iterable>}\n",
    "{{ j,x: x * x for x in (1, 2, 3, 4)} for j in range(4)}"
   ]
  },
  {
   "cell_type": "code",
   "execution_count": 10,
   "metadata": {},
   "outputs": [
    {
     "name": "stdout",
     "output_type": "stream",
     "text": [
      "{'hola': 'python', 'adios': 'python', 'chao': 'python'}\n"
     ]
    }
   ],
   "source": [
    "Lista = [('hola', 'python'),('adios', 'python'),('chao', 'python')] #Lista\n",
    "diccionario = {k:v for k, v in Lista} #Creando diccionario a partir de lista\n",
    "print (diccionario)"
   ]
  },
  {
   "cell_type": "code",
   "execution_count": 12,
   "metadata": {},
   "outputs": [
    {
     "name": "stdout",
     "output_type": "stream",
     "text": [
      "{'Maria': 14, 'Juan': 16, 'Pedro': 18}\n"
     ]
    }
   ],
   "source": [
    "L1 = ['Maria', 'Juan', 'Pedro'] #Lista con los nombres\n",
    "Ledades = [14, 16, 18]# Lista con las edades\n",
    "diccionario = (dict(zip(L1, Ledades))) #Creamos un diccionario fusionando con zip()\n",
    "print (diccionario)"
   ]
  },
  {
   "cell_type": "code",
   "execution_count": 13,
   "metadata": {},
   "outputs": [
    {
     "name": "stdout",
     "output_type": "stream",
     "text": [
      "Rojo significa Detenerse\n",
      "Amarillo significa Despacio\n",
      "Verde significa Avanzar\n"
     ]
    }
   ],
   "source": [
    "semaforo = {'Rojo' : 'Detenerse', 'Amarillo' : 'Despacio', 'Verde' : 'Avanzar'}\n",
    "elementos = semaforo.items() #Creamos la variable elementos que almacena key y values\n",
    "for k,v in elementos: # Iteramos\n",
    "    print ((k), ('significa'), (v))"
   ]
  },
  {
   "cell_type": "code",
   "execution_count": null,
   "metadata": {},
   "outputs": [],
   "source": []
  }
 ],
 "metadata": {
  "kernelspec": {
   "display_name": "Python 3",
   "language": "python",
   "name": "python3"
  },
  "language_info": {
   "codemirror_mode": {
    "name": "ipython",
    "version": 3
   },
   "file_extension": ".py",
   "mimetype": "text/x-python",
   "name": "python",
   "nbconvert_exporter": "python",
   "pygments_lexer": "ipython3",
   "version": "3.7.3"
  }
 },
 "nbformat": 4,
 "nbformat_minor": 4
}
