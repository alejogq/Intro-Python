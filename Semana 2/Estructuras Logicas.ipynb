{
 "cells": [
  {
   "cell_type": "markdown",
   "metadata": {},
   "source": [
    "# Estructuras Lógicas"
   ]
  },
  {
   "cell_type": "markdown",
   "metadata": {},
   "source": [
    "## Estructura if\n",
    "#### Si entonces"
   ]
  },
  {
   "cell_type": "code",
   "execution_count": 7,
   "metadata": {},
   "outputs": [
    {
     "name": "stdout",
     "output_type": "stream",
     "text": [
      "Inserte un numero: -2\n",
      "-2 es un numero negativo\n",
      " -2.0\n",
      "Esto tambien hace parte de la instruccion\n",
      "Esto se ejecuta una vez se termine el ciclo if\n"
     ]
    }
   ],
   "source": [
    "num=int( input(\"Inserte un numero: \") )\n",
    "\n",
    "if num < 0 :\n",
    "    print(f\"{num} es un numero negativo\")\n",
    "    print(\" %.1f\"%num)\n",
    "    print(\"Esto tambien hace parte de la instruccion\")\n",
    "\n",
    "print(\"Esto se ejecuta una vez se termine el ciclo if\")"
   ]
  },
  {
   "cell_type": "code",
   "execution_count": 18,
   "metadata": {},
   "outputs": [
    {
     "name": "stdout",
     "output_type": "stream",
     "text": [
      "a y b son los # buscados\n"
     ]
    }
   ],
   "source": [
    "a=0\n",
    "b=3\n",
    "\n",
    "if a==0:\n",
    "    if b==3:\n",
    "        print(\"a y b son los # buscados\")\n",
    "else:\n",
    "    if a==0:\n",
    "        print(\"este es un if anidado\")\n",
    "        \n",
    "        if b==2:\n",
    "            print(\"este es mas anidado\")\n",
    "    \n",
    "    print(\"a y b No concuerdan\")\n",
    "    \n",
    "    "
   ]
  },
  {
   "cell_type": "code",
   "execution_count": 1,
   "metadata": {},
   "outputs": [
    {
     "name": "stdout",
     "output_type": "stream",
     "text": [
      "ingrese un número: 5\n",
      "ingrese otro número: 5\n",
      "El numero 5 es igual al número 5\n"
     ]
    }
   ],
   "source": [
    "a=input(\"ingrese un número: \")\n",
    "b=input(\"ingrese otro número: \")\n",
    "\n",
    "if a>b:\n",
    "    print(f\"El numero {a} es mayor que el número {b} \")\n",
    "elif b>a:\n",
    "    print(f\"El numero {b} es mayor que el número {a}\")\n",
    "elif a==b:\n",
    "    print(f\"El numero {a} es igual al número {b}\")"
   ]
  },
  {
   "cell_type": "code",
   "execution_count": 23,
   "metadata": {},
   "outputs": [
    {
     "name": "stdout",
     "output_type": "stream",
     "text": [
      "ingrese el nombreJuan\n",
      "Su edad es 20\n"
     ]
    }
   ],
   "source": [
    "nombre= input(\"ingrese el nombre\")\n",
    "\n",
    "if nombre == \"Juan\":\n",
    "    print(\"Su edad es 20\")\n",
    "elif nombre == \"Pedro\":\n",
    "    print(\"Su edad es 24\")\n",
    "elif nombre == \"David\":\n",
    "    print(\"Su edad es 2\")\n",
    "elif nombre == \"Lina\":\n",
    "    print(\"Su edad es 3\")\n",
    "elif nombre == \"Juan\":\n",
    "    print(\"Su edad es 5\")"
   ]
  },
  {
   "cell_type": "markdown",
   "metadata": {},
   "source": [
    "### Ciclo for"
   ]
  },
  {
   "cell_type": "code",
   "execution_count": 10,
   "metadata": {},
   "outputs": [
    {
     "name": "stdout",
     "output_type": "stream",
     "text": [
      "Ejecución del ciclo 1\n",
      "Ejecución del ciclo 2\n",
      "Ejecución del ciclo 3\n",
      "Ejecución del ciclo 4\n",
      "Ejecución del ciclo 5\n",
      "Ejecución del ciclo 6\n",
      "Ejecución del ciclo 7\n",
      "Ejecución del ciclo 8\n",
      "Ejecución del ciclo 9\n"
     ]
    }
   ],
   "source": [
    "for i in range(1,10):\n",
    "    print(f\"Ejecución del ciclo {i}\")"
   ]
  },
  {
   "cell_type": "code",
   "execution_count": 34,
   "metadata": {},
   "outputs": [
    {
     "name": "stdout",
     "output_type": "stream",
     "text": [
      "Ejecución del ciclo 1\n",
      "Ejecución del ciclo 2\n",
      "Ejecución del ciclo 3\n",
      "Ejecución del ciclo 4\n",
      "Ejecución del ciclo 5\n",
      "Ejecución del ciclo 6\n",
      "Ejecución del ciclo 7\n",
      "Ejecución del ciclo 8\n",
      "Ejecución del ciclo 9\n",
      "Ultima instruccion\n"
     ]
    }
   ],
   "source": [
    "for i in range(1,10):\n",
    "    print(f\"Ejecución del ciclo {i}\")\n",
    "    if i==5:\n",
    "        pass\n",
    "else:\n",
    "    print(\"Ultima instruccion\")"
   ]
  },
  {
   "cell_type": "markdown",
   "metadata": {},
   "source": [
    "## Ciclo while"
   ]
  },
  {
   "cell_type": "code",
   "execution_count": 14,
   "metadata": {},
   "outputs": [
    {
     "name": "stdout",
     "output_type": "stream",
     "text": [
      "Ejecución del ciclo 0\n",
      "Ejecución del ciclo 1\n",
      "Ejecución del ciclo 2\n",
      "Ejecución del ciclo 3\n",
      "Ejecución del ciclo 4\n",
      "Ejecución del ciclo 5\n",
      "Ejecución del ciclo 6\n",
      "Ejecución del ciclo 7\n",
      "Ejecución del ciclo 8\n",
      "Ejecución del ciclo 9\n"
     ]
    }
   ],
   "source": [
    "i=0\n",
    "while i<10:\n",
    "    print(f\"Ejecución del ciclo {i}\")\n",
    "    i=i+1"
   ]
  },
  {
   "cell_type": "code",
   "execution_count": null,
   "metadata": {},
   "outputs": [],
   "source": [
    "i=0\n",
    "while i<10:\n",
    "    print(f\"Ejecución del ciclo {i}\")\n",
    "    i=i+1\n",
    "    if i==6:\n",
    "        break"
   ]
  },
  {
   "cell_type": "code",
   "execution_count": 33,
   "metadata": {},
   "outputs": [
    {
     "name": "stdout",
     "output_type": "stream",
     "text": [
      "1\n",
      "2\n",
      "4\n",
      "5\n",
      "6\n"
     ]
    }
   ],
   "source": [
    "i = 0\n",
    "while i < 6:\n",
    "    i += 1\n",
    "    if i == 3:\n",
    "        continue\n",
    "    print(i)"
   ]
  },
  {
   "cell_type": "code",
   "execution_count": 38,
   "metadata": {},
   "outputs": [
    {
     "name": "stdout",
     "output_type": "stream",
     "text": [
      "hola\n",
      "como\n",
      "estas\n"
     ]
    }
   ],
   "source": [
    "lis_numero = [1,2,3,4,\"hola\",6,7,8, \"como\",\"estas\"]\n",
    "i=0\n",
    "\n",
    "while (i < (len(lis_numero))):\n",
    "    i += 1\n",
    "    if (type(lis_numero[i-1]))!=str:\n",
    "        continue\n",
    "    print(lis_numero[i-1])\n",
    "    "
   ]
  },
  {
   "cell_type": "code",
   "execution_count": 41,
   "metadata": {},
   "outputs": [
    {
     "name": "stdout",
     "output_type": "stream",
     "text": [
      "hola\n",
      "como\n",
      "estas\n"
     ]
    }
   ],
   "source": [
    "lis_numero = [1,2,3,4,\"hola\",6,7,8, \"como\",\"estas\"]\n",
    "i=0\n",
    "\n",
    "while (i < (len(lis_numero))):\n",
    "    i += 1\n",
    "    if (type(lis_numero[i-1]))!=str:\n",
    "        continue\n",
    "    else:\n",
    "        pass\n",
    "    print(lis_numero[i-1])"
   ]
  },
  {
   "cell_type": "code",
   "execution_count": 44,
   "metadata": {},
   "outputs": [
    {
     "name": "stdout",
     "output_type": "stream",
     "text": [
      "estas\n",
      "como\n",
      "hola\n"
     ]
    }
   ],
   "source": [
    "lis_numero = [1,2,3,4,\"hola\",6,7,8, \"como\",\"estas\"]\n",
    "i=len(lis_numero)-1\n",
    "\n",
    "while (i > 0):\n",
    "    i -= 1\n",
    "    if (type(lis_numero[i+1]))!=str:\n",
    "        continue\n",
    "    else:\n",
    "        pass\n",
    "    print(lis_numero[i+1])"
   ]
  },
  {
   "cell_type": "code",
   "execution_count": 51,
   "metadata": {},
   "outputs": [
    {
     "data": {
      "text/plain": [
       "int"
      ]
     },
     "execution_count": 51,
     "metadata": {},
     "output_type": "execute_result"
    }
   ],
   "source": [
    "a: int = 5\n",
    "type(a)"
   ]
  },
  {
   "cell_type": "code",
   "execution_count": 26,
   "metadata": {},
   "outputs": [
    {
     "name": "stdout",
     "output_type": "stream",
     "text": [
      "Ejecución del ciclo_1 0\n",
      "Ciclo_2 0\n",
      "Ciclo_2 1\n",
      "Ciclo_2 2\n",
      "Ciclo_2 3\n",
      "Ciclo_2 4\n",
      "Ciclo_2 5\n",
      "Ciclo_2 6\n",
      "Ciclo_2 7\n",
      "Ejecución del ciclo_1 1\n",
      "Ejecución del ciclo_1 2\n",
      "Ejecución del ciclo_1 3\n",
      "Ejecución del ciclo_1 4\n",
      "Ejecución del ciclo_1 5\n"
     ]
    }
   ],
   "source": [
    "i=0\n",
    "j=0\n",
    "while i<10:\n",
    "    print(f\"Ejecución del ciclo_1 {i}\")\n",
    "    i=i+1\n",
    "    if i==6:\n",
    "        i=10\n",
    "        break\n",
    "        \n",
    "    while j<10:\n",
    "        print(f\"Ciclo_2 {j}\")\n",
    "        j=j+1\n",
    "        if j==8:\n",
    "            j=10\n",
    "            break\n"
   ]
  },
  {
   "cell_type": "code",
   "execution_count": 18,
   "metadata": {},
   "outputs": [
    {
     "name": "stdout",
     "output_type": "stream",
     "text": [
      "hola\n",
      "hola\n",
      "hola\n",
      "hola\n",
      "hola\n"
     ]
    }
   ],
   "source": [
    "for _ in range(5):\n",
    "    print(\"hola\")"
   ]
  },
  {
   "cell_type": "code",
   "execution_count": 23,
   "metadata": {},
   "outputs": [
    {
     "name": "stdout",
     "output_type": "stream",
     "text": [
      "0  Es un número par\n",
      "1  2  Es un número par\n",
      "3  4  Es un número par\n",
      "5  6  Es un número par\n",
      "7  8  Es un número par\n",
      "9  programa finalizado\n"
     ]
    }
   ],
   "source": [
    "for i in range(0, 10):\n",
    "\n",
    "    print(i, ' ', end='')\n",
    "\n",
    "    if i % 2 == 1:\n",
    "        continue\n",
    "    print('Es un número par')\n",
    "\n",
    "print('programa finalizado')\n"
   ]
  },
  {
   "cell_type": "markdown",
   "metadata": {},
   "source": [
    "## Iteración sobre estructuras de datos"
   ]
  },
  {
   "cell_type": "code",
   "execution_count": 23,
   "metadata": {},
   "outputs": [],
   "source": [
    "tienda={\"camas\"     : 10,\n",
    "        \"cojines\"   : 40,\n",
    "        \"almohadas\" : 30,\n",
    "        \"marcas\"    : [\"pluma ok\", \"pulman\",\"comodos\"]\n",
    "  }"
   ]
  },
  {
   "cell_type": "code",
   "execution_count": 31,
   "metadata": {},
   "outputs": [
    {
     "data": {
      "text/plain": [
       "dict_keys(['camas', 'cojines', 'almohadas', 'marcas'])"
      ]
     },
     "execution_count": 31,
     "metadata": {},
     "output_type": "execute_result"
    }
   ],
   "source": [
    "## Llaves\n",
    "tienda.keys()"
   ]
  },
  {
   "cell_type": "code",
   "execution_count": 32,
   "metadata": {},
   "outputs": [
    {
     "data": {
      "text/plain": [
       "dict_values([10, 40, 30, ['pluma ok', 'pulman', 'comodos']])"
      ]
     },
     "execution_count": 32,
     "metadata": {},
     "output_type": "execute_result"
    }
   ],
   "source": [
    "## Datos\n",
    "tienda.values()"
   ]
  },
  {
   "cell_type": "code",
   "execution_count": 18,
   "metadata": {},
   "outputs": [
    {
     "name": "stdout",
     "output_type": "stream",
     "text": [
      "camas\n",
      "cojines\n",
      "almohadas\n",
      "marcas\n"
     ]
    }
   ],
   "source": [
    "for i in tienda:\n",
    "    print(i)"
   ]
  },
  {
   "cell_type": "code",
   "execution_count": 24,
   "metadata": {},
   "outputs": [
    {
     "name": "stdout",
     "output_type": "stream",
     "text": [
      "10\n",
      "40\n",
      "30\n",
      "['pluma ok', 'pulman', 'comodos']\n"
     ]
    }
   ],
   "source": [
    "for i in tienda:\n",
    "    print(tienda[i])"
   ]
  },
  {
   "cell_type": "code",
   "execution_count": 33,
   "metadata": {},
   "outputs": [
    {
     "name": "stdout",
     "output_type": "stream",
     "text": [
      "camas\n",
      "cojines\n",
      "almohadas\n",
      "['pluma ok', 'pulman', 'comodos']\n"
     ]
    }
   ],
   "source": [
    "for i in tienda:\n",
    "    var=type(tienda[i])\n",
    "    if var!= int:\n",
    "        print(tienda[i])\n",
    "    else:\n",
    "        print(i)"
   ]
  },
  {
   "cell_type": "code",
   "execution_count": 28,
   "metadata": {},
   "outputs": [
    {
     "name": "stdout",
     "output_type": "stream",
     "text": [
      "4\n",
      "5\n",
      "6\n"
     ]
    }
   ],
   "source": [
    "lista=[1,2,3,4,5,6,7,8]\n",
    "\n",
    "for i in lista[2:5]:\n",
    "    print(lista[i])"
   ]
  },
  {
   "cell_type": "code",
   "execution_count": 30,
   "metadata": {},
   "outputs": [
    {
     "name": "stdout",
     "output_type": "stream",
     "text": [
      "4\n",
      "5\n",
      "6\n"
     ]
    }
   ],
   "source": [
    "tupla=(1,2,3,4,5,6,7,8)\n",
    "\n",
    "for i in tupla[2:5]:\n",
    "    print(tupla[i])"
   ]
  },
  {
   "cell_type": "code",
   "execution_count": 52,
   "metadata": {},
   "outputs": [
    {
     "name": "stdout",
     "output_type": "stream",
     "text": [
      "Pereira\n",
      "Barranquilla\n",
      "Medellin\n",
      "cali\n"
     ]
    }
   ],
   "source": [
    "ciudades=[\"cali\", \"Medellin\", \"Barranquilla\",\"Pereira\"]\n",
    "\n",
    "for i in ciudades[::-1]:\n",
    "\n",
    "    print(i)"
   ]
  },
  {
   "cell_type": "code",
   "execution_count": 56,
   "metadata": {},
   "outputs": [
    {
     "name": "stdout",
     "output_type": "stream",
     "text": [
      "[0, 1, 2, 3, 4]\n"
     ]
    }
   ],
   "source": [
    "a=[]\n",
    "for i in range(5):\n",
    "    a.append(i)\n",
    "print(a)"
   ]
  },
  {
   "cell_type": "code",
   "execution_count": 59,
   "metadata": {},
   "outputs": [
    {
     "name": "stdout",
     "output_type": "stream",
     "text": [
      "[5, 4, 3, 2, 1]\n"
     ]
    }
   ],
   "source": [
    "a=[]\n",
    "for i in range(5,0,-1):\n",
    "    a.append(i)\n",
    "print(a)"
   ]
  },
  {
   "cell_type": "code",
   "execution_count": null,
   "metadata": {},
   "outputs": [],
   "source": []
  },
  {
   "cell_type": "code",
   "execution_count": 38,
   "metadata": {},
   "outputs": [
    {
     "name": "stdout",
     "output_type": "stream",
     "text": [
      "Entre un número para verificar con el for: 3\n",
      "0  1  2  Hecho\n"
     ]
    }
   ],
   "source": [
    "num = int(input('Entre un número para verificar con el for: '))\n",
    "\n",
    "for i in range(0, 10):\n",
    "    if i == num:\n",
    "        break\n",
    "    print(i, ' ', end='')\n",
    "    \n",
    "print('Hecho')\n"
   ]
  },
  {
   "cell_type": "code",
   "execution_count": 40,
   "metadata": {},
   "outputs": [
    {
     "name": "stdout",
     "output_type": "stream",
     "text": [
      "0  Es un número par\n",
      "1  2  Es un número par\n",
      "3  4  Es un número par\n",
      "5  6  Es un número par\n",
      "7  8  Es un número par\n",
      "9  Programa finalizado\n"
     ]
    }
   ],
   "source": []
  },
  {
   "cell_type": "code",
   "execution_count": null,
   "metadata": {},
   "outputs": [],
   "source": []
  }
 ],
 "metadata": {
  "kernelspec": {
   "display_name": "Python 3",
   "language": "python",
   "name": "python3"
  },
  "language_info": {
   "codemirror_mode": {
    "name": "ipython",
    "version": 3
   },
   "file_extension": ".py",
   "mimetype": "text/x-python",
   "name": "python",
   "nbconvert_exporter": "python",
   "pygments_lexer": "ipython3",
   "version": "3.7.3"
  }
 },
 "nbformat": 4,
 "nbformat_minor": 4
}
