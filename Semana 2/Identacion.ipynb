{
 "cells": [
  {
   "cell_type": "code",
   "execution_count": 1,
   "metadata": {},
   "outputs": [
    {
     "name": "stdout",
     "output_type": "stream",
     "text": [
      "entre nombre alejo\n",
      "alejo entre salario 200\n",
      "alejo 200 20.0 220.0\n",
      "entre nombre \n",
      "acabé\n"
     ]
    }
   ],
   "source": [
    "nombre = input(\"entre nombre \")\n",
    "\n",
    "while nombre != \"\":\n",
    "\n",
    "    salario = int(input(f\"{nombre} entre salario \"))\n",
    "\n",
    "    aumento = 0.\n",
    "\n",
    "    if salario < 1000:\n",
    "\n",
    "        aumento = salario * 0.1\n",
    "\n",
    "    nuevoSalario = salario + aumento\n",
    "\n",
    "    print(nombre, salario, aumento, nuevoSalario)\n",
    "\n",
    "    nombre = input(\"entre nombre \")\n",
    "\n",
    "print(\"acabé\")"
   ]
  },
  {
   "cell_type": "code",
   "execution_count": 2,
   "metadata": {},
   "outputs": [
    {
     "name": "stdout",
     "output_type": "stream",
     "text": [
      "entre nombre hols\n",
      "hols entre salario 1202\n",
      "entre nombre sdf\n",
      "sdf entre salario 200\n",
      "Nombre sdf salario 200 Aumento 20.0 Nuevo salario 220.0\n",
      "entre nombre asd\n",
      "asd entre salario 8000\n",
      "entre nombre asd\n",
      "asd entre salario 80000\n",
      "entre nombre asd\n",
      "asd entre salario 123\n",
      "Nombre asd salario 123 Aumento 12.3 Nuevo salario 135.3\n",
      "entre nombre asd\n",
      "asd entre salario 789\n",
      "Nombre asd salario 789 Aumento 78.9 Nuevo salario 867.9\n",
      "entre nombre \n",
      "Total empleados 6\n"
     ]
    }
   ],
   "source": [
    "contador = 0\n",
    "nombre = input(\"entre nombre \")\n",
    "while nombre != \"\":\n",
    "    salario = int(input(f\"{nombre} entre salario \"))\n",
    "    contador = contador + 1\n",
    "    aumento = 0.\n",
    "    if salario < 1000:\n",
    "        aumento = salario * 0.1\n",
    "        nuevoSalario = salario + aumento\n",
    "        print(\"Nombre\", nombre, \"salario\",\n",
    "              salario, \"Aumento\", aumento,\n",
    "              \"Nuevo salario\",nuevoSalario)\n",
    "\n",
    "    nombre = input(\"entre nombre \")\n",
    "\n",
    "print(\"Total empleados\", contador)"
   ]
  },
  {
   "cell_type": "code",
   "execution_count": 3,
   "metadata": {},
   "outputs": [
    {
     "name": "stdout",
     "output_type": "stream",
     "text": [
      "Por favor ingresa un número: -9\n",
      "Ingresaste un número negativo \n",
      "debemos cerrar el programa!! \n",
      "Resultado final =  0\n"
     ]
    }
   ],
   "source": [
    "suma = 0\n",
    "while True:\n",
    "    numpos = int(input('Por favor ingresa un número: '))\n",
    "    if numpos>0:\n",
    "        print('Ingresaste un número positivo, Vamos a revisar si es par!')\n",
    "        \n",
    "        if numpos%2==0 :\n",
    "            suma = suma+numpos\n",
    "            print('Resultado de la suma parcial = ', suma)\n",
    "        else:\n",
    "            print('Número impar')\n",
    "    else: \n",
    "        print('Ingresaste un número negativo \\n' +'debemos cerrar el programa!! \\n' + 'Resultado final = ', suma)\n",
    "        break"
   ]
  },
  {
   "cell_type": "code",
   "execution_count": null,
   "metadata": {},
   "outputs": [],
   "source": []
  }
 ],
 "metadata": {
  "kernelspec": {
   "display_name": "Python 3",
   "language": "python",
   "name": "python3"
  },
  "language_info": {
   "codemirror_mode": {
    "name": "ipython",
    "version": 3
   },
   "file_extension": ".py",
   "mimetype": "text/x-python",
   "name": "python",
   "nbconvert_exporter": "python",
   "pygments_lexer": "ipython3",
   "version": "3.7.3"
  }
 },
 "nbformat": 4,
 "nbformat_minor": 4
}
