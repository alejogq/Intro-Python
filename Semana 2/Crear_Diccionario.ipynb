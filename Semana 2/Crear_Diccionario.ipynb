{
 "cells": [
  {
   "cell_type": "markdown",
   "metadata": {},
   "source": [
    "## Crear un diccionario"
   ]
  },
  {
   "cell_type": "code",
   "execution_count": null,
   "metadata": {},
   "outputs": [],
   "source": [
    "libro={}\n",
    "\n",
    "while True:\n",
    "    print(\"Elementos disponibles\\n\",\n",
    "               \"Capitulo [c] \\n\",\n",
    "               \"Glosario [] \")\n",
    "    \n",
    "    tipo=input(\" Ingrese el elemento a asignar: \")\n",
    "    if tipo.lower() == \"}c\":\n",
    "        tipo_name=input(\"ingrese el nombre del capitulo: \")\n",
    "        elemento=input(f\"Elementos disponibles para {tipo_name} \\n Paginas[p] \\n Titulos\\n Ingrese el elemento a asignar: \")\n",
    "        \n",
    "        if elemento.lower() == \"p\":\n",
    "            # elemento_name=input(\"ingrese el nombre del elemento: \")\n",
    "            dato=input(f\"Ingrese los datos correspondientes al {elemento}: \")\n",
    "            # libro={tipo_name:{elemento:dato}}\n",
    "            libro[tipo_name]={elemento:dato}\n",
    "    \n",
    "    pregunta=input(\"¿Desea agregar otro elemento? \")\n",
    "    \n",
    "    if pregunta==\"s\":\n",
    "        continue\n",
    "    else:\n",
    "        break"
   ]
  },
  {
   "cell_type": "code",
   "execution_count": null,
   "metadata": {},
   "outputs": [],
   "source": [
    "a=input(\"hola\\n eso\")"
   ]
  },
  {
   "cell_type": "code",
   "execution_count": 5,
   "metadata": {},
   "outputs": [
    {
     "data": {
      "text/plain": [
       "'El area es: 1.973,92'"
      ]
     },
     "execution_count": 5,
     "metadata": {},
     "output_type": "execute_result"
    }
   ],
   "source": [
    "area = 1973.9208802178716\n",
    "texto='El area es: {:,.2f}'.format(area)\n",
    "texto=texto.replace(\".\",\"#\")\n",
    "texto=texto.replace(\",\",\".\")\n",
    "texto=texto.replace(\"#\",\",\")\n",
    "texto"
   ]
  },
  {
   "cell_type": "code",
   "execution_count": null,
   "metadata": {},
   "outputs": [],
   "source": []
  }
 ],
 "metadata": {
  "kernelspec": {
   "display_name": "Python 3",
   "language": "python",
   "name": "python3"
  },
  "language_info": {
   "codemirror_mode": {
    "name": "ipython",
    "version": 3
   },
   "file_extension": ".py",
   "mimetype": "text/x-python",
   "name": "python",
   "nbconvert_exporter": "python",
   "pygments_lexer": "ipython3",
   "version": "3.7.3"
  }
 },
 "nbformat": 4,
 "nbformat_minor": 4
}
